{
 "cells": [
  {
   "cell_type": "code",
   "execution_count": 1,
   "id": "9e83147d",
   "metadata": {},
   "outputs": [],
   "source": [
    "import sys\n",
    "sys.path.append('../')"
   ]
  },
  {
   "cell_type": "code",
   "execution_count": 2,
   "id": "static-contest",
   "metadata": {},
   "outputs": [
    {
     "name": "stderr",
     "output_type": "stream",
     "text": [
      "/usr/local/lib/python3.6/dist-packages/gensim/similarities/__init__.py:15: UserWarning: The gensim.similarities.levenshtein submodule is disabled, because the optional Levenshtein package <https://pypi.org/project/python-Levenshtein/> is unavailable. Install Levenhstein (e.g. `pip install python-Levenshtein`) to suppress this warning.\n",
      "  warnings.warn(msg)\n"
     ]
    }
   ],
   "source": [
    "import numpy as np\n",
    "import itertools\n",
    "import pandas as pd\n",
    "import matplotlib.pyplot as plt\n",
    "\n",
    "import networkx as nx\n",
    "from networkx import edge_betweenness_centrality as betweenness\n",
    "from networkx.algorithms.community.centrality import girvan_newman\n",
    "from modularity_maximization import partition\n",
    "\n",
    "from modularity_maximization.utils import get_modularity\n",
    "from networkx.algorithms.community import greedy_modularity_communities\n",
    "from cdlib import algorithms\n",
    "import pickle\n",
    "\n",
    "# import data\n",
    "df = pd.read_csv('../dataset/edge_mean_th95.csv', index_col =0, dtype='int64')"
   ]
  },
  {
   "cell_type": "code",
   "execution_count": 3,
   "id": "metropolitan-civilization",
   "metadata": {},
   "outputs": [
    {
     "name": "stdout",
     "output_type": "stream",
     "text": [
      "Delete node with no neighborhood: [12, 14, 16, 18, 21, 24, 25, 27, 31, 44, 47, 49, 51, 52, 53, 57, 60, 61, 63, 64, 65, 71, 72, 73, 74, 77, 79, 80, 81, 84, 87, 88, 92, 93, 99, 101, 103, 104, 105, 107, 109, 112, 113, 116, 117, 124, 128, 131, 133, 138, 140] \n",
      "\n",
      "Number of node: 91\n"
     ]
    }
   ],
   "source": [
    "dataset = '../dataset/edge_mean_th95.csv'\n",
    "\n",
    "# import data\n",
    "df = pd.read_csv(dataset, index_col =0, dtype='int64')\n",
    "\n",
    "# define edge_list (u,v)\n",
    "edge_list = list(df.itertuples(index=False, name=None))\n",
    "\n",
    "# define node_list\n",
    "node_list = [x for x in range(max(df['dst']))]\n",
    "\n",
    "# Create Graph \n",
    "G = nx.Graph()\n",
    "\n",
    "# Add node and edge to graph\n",
    "G.add_nodes_from(node_list)\n",
    "G.add_edges_from(edge_list)\n",
    "\n",
    "# Delete node which does not have neighborhood\n",
    "print('Delete node with no neighborhood: {} \\n'.format(list(nx.isolates(G))))\n",
    "G.remove_nodes_from(list(nx.isolates(G)))\n",
    "print('Number of node:',len(G.nodes))"
   ]
  },
  {
   "cell_type": "code",
   "execution_count": 4,
   "id": "heard-establishment",
   "metadata": {},
   "outputs": [],
   "source": [
    "# criterion for most valuable edge (can be changed)\n",
    "def most_central_edge(G):\n",
    "    centrality = betweenness(G, weight=\"weight\")\n",
    "    # print(centrality)\n",
    "    return max(centrality, key=centrality.get)"
   ]
  },
  {
   "cell_type": "markdown",
   "id": "organic-subsection",
   "metadata": {},
   "source": [
    "# Eigenvector \n",
    "Partition 자체가 Modularity Matrix에 대한 Eigenvector"
   ]
  },
  {
   "cell_type": "code",
   "execution_count": 5,
   "id": "intended-aircraft",
   "metadata": {},
   "outputs": [
    {
     "data": {
      "text/plain": [
       "'Name: \\nType: Graph\\nNumber of nodes: 91\\nNumber of edges: 169\\nAverage degree:   3.7143'"
      ]
     },
     "execution_count": 5,
     "metadata": {},
     "output_type": "execute_result"
    }
   ],
   "source": [
    "nx.info(G)"
   ]
  },
  {
   "cell_type": "code",
   "execution_count": 6,
   "id": "governmental-thread",
   "metadata": {
    "scrolled": true
   },
   "outputs": [
    {
     "ename": "KeyboardInterrupt",
     "evalue": "",
     "output_type": "error",
     "traceback": [
      "\u001b[0;31m---------------------------------------------------------------------------\u001b[0m",
      "\u001b[0;31mKeyboardInterrupt\u001b[0m                         Traceback (most recent call last)",
      "\u001b[0;32m<ipython-input-6-4a61ae3334ef>\u001b[0m in \u001b[0;36m<module>\u001b[0;34m\u001b[0m\n\u001b[0;32m----> 1\u001b[0;31m \u001b[0mcomm_dict\u001b[0m \u001b[0;34m=\u001b[0m \u001b[0mpartition\u001b[0m\u001b[0;34m(\u001b[0m\u001b[0mG\u001b[0m\u001b[0;34m)\u001b[0m\u001b[0;34m\u001b[0m\u001b[0;34m\u001b[0m\u001b[0m\n\u001b[0m\u001b[1;32m      2\u001b[0m \u001b[0;34m\u001b[0m\u001b[0m\n\u001b[1;32m      3\u001b[0m \u001b[0;32mfor\u001b[0m \u001b[0mcomm\u001b[0m \u001b[0;32min\u001b[0m \u001b[0mset\u001b[0m\u001b[0;34m(\u001b[0m\u001b[0mcomm_dict\u001b[0m\u001b[0;34m.\u001b[0m\u001b[0mvalues\u001b[0m\u001b[0;34m(\u001b[0m\u001b[0;34m)\u001b[0m\u001b[0;34m)\u001b[0m\u001b[0;34m:\u001b[0m\u001b[0;34m\u001b[0m\u001b[0;34m\u001b[0m\u001b[0m\n\u001b[1;32m      4\u001b[0m     \u001b[0mprint\u001b[0m\u001b[0;34m(\u001b[0m\u001b[0;34m\"Community %d\"\u001b[0m\u001b[0;34m%\u001b[0m\u001b[0mcomm\u001b[0m\u001b[0;34m)\u001b[0m\u001b[0;34m\u001b[0m\u001b[0;34m\u001b[0m\u001b[0m\n\u001b[1;32m      5\u001b[0m     \u001b[0mprint\u001b[0m\u001b[0;34m(\u001b[0m\u001b[0;34m', '\u001b[0m\u001b[0;34m.\u001b[0m\u001b[0mjoin\u001b[0m\u001b[0;34m(\u001b[0m\u001b[0;34m[\u001b[0m\u001b[0mstr\u001b[0m\u001b[0;34m(\u001b[0m\u001b[0mnode\u001b[0m\u001b[0;34m)\u001b[0m \u001b[0;32mfor\u001b[0m \u001b[0mnode\u001b[0m \u001b[0;32min\u001b[0m \u001b[0mcomm_dict\u001b[0m \u001b[0;32mif\u001b[0m \u001b[0mcomm_dict\u001b[0m\u001b[0;34m[\u001b[0m\u001b[0mnode\u001b[0m\u001b[0;34m]\u001b[0m \u001b[0;34m==\u001b[0m \u001b[0mcomm\u001b[0m\u001b[0;34m]\u001b[0m\u001b[0;34m)\u001b[0m\u001b[0;34m)\u001b[0m\u001b[0;34m\u001b[0m\u001b[0;34m\u001b[0m\u001b[0m\n",
      "\u001b[0;32m/usr/local/lib/python3.6/dist-packages/modularity_maximization/community_newman.py\u001b[0m in \u001b[0;36mpartition\u001b[0;34m(network, refine)\u001b[0m\n\u001b[1;32m     60\u001b[0m         \u001b[0;31m## get the first divisible comm index out\u001b[0m\u001b[0;34m\u001b[0m\u001b[0;34m\u001b[0m\u001b[0;34m\u001b[0m\u001b[0m\n\u001b[1;32m     61\u001b[0m         \u001b[0mcomm_index\u001b[0m \u001b[0;34m=\u001b[0m \u001b[0mdivisible_community\u001b[0m\u001b[0;34m.\u001b[0m\u001b[0mpopleft\u001b[0m\u001b[0;34m(\u001b[0m\u001b[0;34m)\u001b[0m\u001b[0;34m\u001b[0m\u001b[0;34m\u001b[0m\u001b[0m\n\u001b[0;32m---> 62\u001b[0;31m         \u001b[0mg1_nodes\u001b[0m\u001b[0;34m,\u001b[0m \u001b[0mcomm_nodes\u001b[0m \u001b[0;34m=\u001b[0m \u001b[0m_divide\u001b[0m\u001b[0;34m.\u001b[0m\u001b[0m_divide\u001b[0m\u001b[0;34m(\u001b[0m\u001b[0mnetwork\u001b[0m\u001b[0;34m,\u001b[0m \u001b[0mcommunity_dict\u001b[0m\u001b[0;34m,\u001b[0m \u001b[0mcomm_index\u001b[0m\u001b[0;34m,\u001b[0m \u001b[0mB\u001b[0m\u001b[0;34m,\u001b[0m \u001b[0mrefine\u001b[0m\u001b[0;34m)\u001b[0m\u001b[0;34m\u001b[0m\u001b[0;34m\u001b[0m\u001b[0m\n\u001b[0m\u001b[1;32m     63\u001b[0m         \u001b[0;32mif\u001b[0m \u001b[0mg1_nodes\u001b[0m \u001b[0;32mis\u001b[0m \u001b[0;32mNone\u001b[0m\u001b[0;34m:\u001b[0m\u001b[0;34m\u001b[0m\u001b[0;34m\u001b[0m\u001b[0m\n\u001b[1;32m     64\u001b[0m             \u001b[0;31m## indivisible, go to next\u001b[0m\u001b[0;34m\u001b[0m\u001b[0;34m\u001b[0m\u001b[0;34m\u001b[0m\u001b[0m\n",
      "\u001b[0;32m/usr/local/lib/python3.6/dist-packages/modularity_maximization/_divide.py\u001b[0m in \u001b[0;36m_divide\u001b[0;34m(network, community_dict, comm_index, B, refine)\u001b[0m\n\u001b[1;32m     39\u001b[0m         \u001b[0ms\u001b[0m \u001b[0;34m=\u001b[0m \u001b[0msparse\u001b[0m\u001b[0;34m.\u001b[0m\u001b[0mcsc_matrix\u001b[0m\u001b[0;34m(\u001b[0m\u001b[0mnp\u001b[0m\u001b[0;34m.\u001b[0m\u001b[0masmatrix\u001b[0m\u001b[0;34m(\u001b[0m\u001b[0;34m[\u001b[0m\u001b[0;34m[\u001b[0m\u001b[0;36m1\u001b[0m \u001b[0;32mif\u001b[0m \u001b[0mu_1_i\u001b[0m \u001b[0;34m>\u001b[0m \u001b[0;36m0\u001b[0m \u001b[0;32melse\u001b[0m \u001b[0;34m-\u001b[0m\u001b[0;36m1\u001b[0m\u001b[0;34m]\u001b[0m \u001b[0;32mfor\u001b[0m \u001b[0mu_1_i\u001b[0m \u001b[0;32min\u001b[0m \u001b[0mu_1\u001b[0m\u001b[0;34m]\u001b[0m\u001b[0;34m)\u001b[0m\u001b[0;34m)\u001b[0m\u001b[0;34m\u001b[0m\u001b[0;34m\u001b[0m\u001b[0m\n\u001b[1;32m     40\u001b[0m         \u001b[0;32mif\u001b[0m \u001b[0mrefine\u001b[0m\u001b[0;34m:\u001b[0m\u001b[0;34m\u001b[0m\u001b[0;34m\u001b[0m\u001b[0m\n\u001b[0;32m---> 41\u001b[0;31m             \u001b[0mimprove_modularity\u001b[0m\u001b[0;34m(\u001b[0m\u001b[0mnetwork\u001b[0m\u001b[0;34m,\u001b[0m \u001b[0mcomm_nodes\u001b[0m\u001b[0;34m,\u001b[0m \u001b[0ms\u001b[0m\u001b[0;34m,\u001b[0m \u001b[0mB\u001b[0m\u001b[0;34m)\u001b[0m\u001b[0;34m\u001b[0m\u001b[0;34m\u001b[0m\u001b[0m\n\u001b[0m\u001b[1;32m     42\u001b[0m         \u001b[0mdelta_modularity\u001b[0m \u001b[0;34m=\u001b[0m \u001b[0mutils\u001b[0m\u001b[0;34m.\u001b[0m\u001b[0m_get_delta_Q\u001b[0m\u001b[0;34m(\u001b[0m\u001b[0mB_hat_g\u001b[0m\u001b[0;34m,\u001b[0m \u001b[0ms\u001b[0m\u001b[0;34m)\u001b[0m\u001b[0;34m\u001b[0m\u001b[0;34m\u001b[0m\u001b[0m\n\u001b[1;32m     43\u001b[0m         \u001b[0;32mif\u001b[0m \u001b[0mdelta_modularity\u001b[0m \u001b[0;34m>\u001b[0m \u001b[0;36m0\u001b[0m\u001b[0;34m:\u001b[0m\u001b[0;34m\u001b[0m\u001b[0;34m\u001b[0m\u001b[0m\n",
      "\u001b[0;32m/usr/local/lib/python3.6/dist-packages/modularity_maximization/_divide.py\u001b[0m in \u001b[0;36mimprove_modularity\u001b[0;34m(network, comm_nodes, s, B)\u001b[0m\n\u001b[1;32m     87\u001b[0m                 \u001b[0mk\u001b[0m \u001b[0;34m=\u001b[0m \u001b[0mcomm_nodes\u001b[0m\u001b[0;34m.\u001b[0m\u001b[0mindex\u001b[0m\u001b[0;34m(\u001b[0m\u001b[0munmoved\u001b[0m\u001b[0;34m[\u001b[0m\u001b[0mk_index\u001b[0m\u001b[0;34m]\u001b[0m\u001b[0;34m)\u001b[0m\u001b[0;34m\u001b[0m\u001b[0;34m\u001b[0m\u001b[0m\n\u001b[1;32m     88\u001b[0m                 \u001b[0ms\u001b[0m\u001b[0;34m[\u001b[0m\u001b[0mk\u001b[0m\u001b[0;34m,\u001b[0m \u001b[0;36m0\u001b[0m\u001b[0;34m]\u001b[0m \u001b[0;34m=\u001b[0m \u001b[0;34m-\u001b[0m\u001b[0ms\u001b[0m\u001b[0;34m[\u001b[0m\u001b[0mk\u001b[0m\u001b[0;34m,\u001b[0m \u001b[0;36m0\u001b[0m\u001b[0;34m]\u001b[0m\u001b[0;34m\u001b[0m\u001b[0;34m\u001b[0m\u001b[0m\n\u001b[0;32m---> 89\u001b[0;31m                 \u001b[0mscores\u001b[0m\u001b[0;34m[\u001b[0m\u001b[0mk_index\u001b[0m\u001b[0;34m]\u001b[0m \u001b[0;34m=\u001b[0m \u001b[0mutils\u001b[0m\u001b[0;34m.\u001b[0m\u001b[0m_get_delta_Q\u001b[0m\u001b[0;34m(\u001b[0m\u001b[0mB_hat_g\u001b[0m\u001b[0;34m,\u001b[0m \u001b[0ms\u001b[0m\u001b[0;34m)\u001b[0m \u001b[0;34m-\u001b[0m \u001b[0mQ0\u001b[0m\u001b[0;34m\u001b[0m\u001b[0;34m\u001b[0m\u001b[0m\n\u001b[0m\u001b[1;32m     90\u001b[0m                 \u001b[0ms\u001b[0m\u001b[0;34m[\u001b[0m\u001b[0mk\u001b[0m\u001b[0;34m,\u001b[0m \u001b[0;36m0\u001b[0m\u001b[0;34m]\u001b[0m \u001b[0;34m=\u001b[0m \u001b[0;34m-\u001b[0m\u001b[0ms\u001b[0m\u001b[0;34m[\u001b[0m\u001b[0mk\u001b[0m\u001b[0;34m,\u001b[0m \u001b[0;36m0\u001b[0m\u001b[0;34m]\u001b[0m\u001b[0;34m\u001b[0m\u001b[0;34m\u001b[0m\u001b[0m\n\u001b[1;32m     91\u001b[0m             \u001b[0m_j\u001b[0m \u001b[0;34m=\u001b[0m \u001b[0mnp\u001b[0m\u001b[0;34m.\u001b[0m\u001b[0margmax\u001b[0m\u001b[0;34m(\u001b[0m\u001b[0mscores\u001b[0m\u001b[0;34m)\u001b[0m\u001b[0;34m\u001b[0m\u001b[0;34m\u001b[0m\u001b[0m\n",
      "\u001b[0;32m/usr/local/lib/python3.6/dist-packages/modularity_maximization/utils.py\u001b[0m in \u001b[0;36m_get_delta_Q\u001b[0;34m(X, a)\u001b[0m\n\u001b[1;32m     53\u001b[0m     '''\n\u001b[1;32m     54\u001b[0m \u001b[0;34m\u001b[0m\u001b[0m\n\u001b[0;32m---> 55\u001b[0;31m     \u001b[0mdelta_Q\u001b[0m \u001b[0;34m=\u001b[0m \u001b[0;34m(\u001b[0m\u001b[0ma\u001b[0m\u001b[0;34m.\u001b[0m\u001b[0mT\u001b[0m\u001b[0;34m.\u001b[0m\u001b[0mdot\u001b[0m\u001b[0;34m(\u001b[0m\u001b[0mX\u001b[0m\u001b[0;34m)\u001b[0m\u001b[0;34m)\u001b[0m\u001b[0;34m.\u001b[0m\u001b[0mdot\u001b[0m\u001b[0;34m(\u001b[0m\u001b[0ma\u001b[0m\u001b[0;34m)\u001b[0m\u001b[0;34m\u001b[0m\u001b[0;34m\u001b[0m\u001b[0m\n\u001b[0m\u001b[1;32m     56\u001b[0m \u001b[0;34m\u001b[0m\u001b[0m\n\u001b[1;32m     57\u001b[0m     \u001b[0;32mreturn\u001b[0m \u001b[0mdelta_Q\u001b[0m\u001b[0;34m[\u001b[0m\u001b[0;36m0\u001b[0m\u001b[0;34m,\u001b[0m\u001b[0;36m0\u001b[0m\u001b[0;34m]\u001b[0m\u001b[0;34m\u001b[0m\u001b[0;34m\u001b[0m\u001b[0m\n",
      "\u001b[0;32m/usr/local/lib/python3.6/dist-packages/scipy/sparse/base.py\u001b[0m in \u001b[0;36mdot\u001b[0;34m(self, other)\u001b[0m\n\u001b[1;32m    357\u001b[0m \u001b[0;34m\u001b[0m\u001b[0m\n\u001b[1;32m    358\u001b[0m         \"\"\"\n\u001b[0;32m--> 359\u001b[0;31m         \u001b[0;32mreturn\u001b[0m \u001b[0mself\u001b[0m \u001b[0;34m*\u001b[0m \u001b[0mother\u001b[0m\u001b[0;34m\u001b[0m\u001b[0;34m\u001b[0m\u001b[0m\n\u001b[0m\u001b[1;32m    360\u001b[0m \u001b[0;34m\u001b[0m\u001b[0m\n\u001b[1;32m    361\u001b[0m     \u001b[0;32mdef\u001b[0m \u001b[0mpower\u001b[0m\u001b[0;34m(\u001b[0m\u001b[0mself\u001b[0m\u001b[0;34m,\u001b[0m \u001b[0mn\u001b[0m\u001b[0;34m,\u001b[0m \u001b[0mdtype\u001b[0m\u001b[0;34m=\u001b[0m\u001b[0;32mNone\u001b[0m\u001b[0;34m)\u001b[0m\u001b[0;34m:\u001b[0m\u001b[0;34m\u001b[0m\u001b[0;34m\u001b[0m\u001b[0m\n",
      "\u001b[0;32m/usr/local/lib/python3.6/dist-packages/scipy/sparse/base.py\u001b[0m in \u001b[0;36m__mul__\u001b[0;34m(self, other)\u001b[0m\n\u001b[1;32m    478\u001b[0m             \u001b[0;32mif\u001b[0m \u001b[0mself\u001b[0m\u001b[0;34m.\u001b[0m\u001b[0mshape\u001b[0m\u001b[0;34m[\u001b[0m\u001b[0;36m1\u001b[0m\u001b[0;34m]\u001b[0m \u001b[0;34m!=\u001b[0m \u001b[0mother\u001b[0m\u001b[0;34m.\u001b[0m\u001b[0mshape\u001b[0m\u001b[0;34m[\u001b[0m\u001b[0;36m0\u001b[0m\u001b[0;34m]\u001b[0m\u001b[0;34m:\u001b[0m\u001b[0;34m\u001b[0m\u001b[0;34m\u001b[0m\u001b[0m\n\u001b[1;32m    479\u001b[0m                 \u001b[0;32mraise\u001b[0m \u001b[0mValueError\u001b[0m\u001b[0;34m(\u001b[0m\u001b[0;34m'dimension mismatch'\u001b[0m\u001b[0;34m)\u001b[0m\u001b[0;34m\u001b[0m\u001b[0;34m\u001b[0m\u001b[0m\n\u001b[0;32m--> 480\u001b[0;31m             \u001b[0;32mreturn\u001b[0m \u001b[0mself\u001b[0m\u001b[0;34m.\u001b[0m\u001b[0m_mul_sparse_matrix\u001b[0m\u001b[0;34m(\u001b[0m\u001b[0mother\u001b[0m\u001b[0;34m)\u001b[0m\u001b[0;34m\u001b[0m\u001b[0;34m\u001b[0m\u001b[0m\n\u001b[0m\u001b[1;32m    481\u001b[0m \u001b[0;34m\u001b[0m\u001b[0m\n\u001b[1;32m    482\u001b[0m         \u001b[0;31m# If it's a list or whatever, treat it like a matrix\u001b[0m\u001b[0;34m\u001b[0m\u001b[0;34m\u001b[0m\u001b[0;34m\u001b[0m\u001b[0m\n",
      "\u001b[0;32m/usr/local/lib/python3.6/dist-packages/scipy/sparse/compressed.py\u001b[0m in \u001b[0;36m_mul_sparse_matrix\u001b[0;34m(self, other)\u001b[0m\n\u001b[1;32m    526\u001b[0m            indptr, indices, data)\n\u001b[1;32m    527\u001b[0m \u001b[0;34m\u001b[0m\u001b[0m\n\u001b[0;32m--> 528\u001b[0;31m         \u001b[0;32mreturn\u001b[0m \u001b[0mself\u001b[0m\u001b[0;34m.\u001b[0m\u001b[0m__class__\u001b[0m\u001b[0;34m(\u001b[0m\u001b[0;34m(\u001b[0m\u001b[0mdata\u001b[0m\u001b[0;34m,\u001b[0m \u001b[0mindices\u001b[0m\u001b[0;34m,\u001b[0m \u001b[0mindptr\u001b[0m\u001b[0;34m)\u001b[0m\u001b[0;34m,\u001b[0m \u001b[0mshape\u001b[0m\u001b[0;34m=\u001b[0m\u001b[0;34m(\u001b[0m\u001b[0mM\u001b[0m\u001b[0;34m,\u001b[0m \u001b[0mN\u001b[0m\u001b[0;34m)\u001b[0m\u001b[0;34m)\u001b[0m\u001b[0;34m\u001b[0m\u001b[0;34m\u001b[0m\u001b[0m\n\u001b[0m\u001b[1;32m    529\u001b[0m \u001b[0;34m\u001b[0m\u001b[0m\n\u001b[1;32m    530\u001b[0m     \u001b[0;32mdef\u001b[0m \u001b[0mdiagonal\u001b[0m\u001b[0;34m(\u001b[0m\u001b[0mself\u001b[0m\u001b[0;34m,\u001b[0m \u001b[0mk\u001b[0m\u001b[0;34m=\u001b[0m\u001b[0;36m0\u001b[0m\u001b[0;34m)\u001b[0m\u001b[0;34m:\u001b[0m\u001b[0;34m\u001b[0m\u001b[0;34m\u001b[0m\u001b[0m\n",
      "\u001b[0;32m/usr/local/lib/python3.6/dist-packages/scipy/sparse/compressed.py\u001b[0m in \u001b[0;36m__init__\u001b[0;34m(self, arg1, shape, dtype, copy)\u001b[0m\n\u001b[1;32m    103\u001b[0m             \u001b[0mself\u001b[0m\u001b[0;34m.\u001b[0m\u001b[0mdata\u001b[0m \u001b[0;34m=\u001b[0m \u001b[0mself\u001b[0m\u001b[0;34m.\u001b[0m\u001b[0mdata\u001b[0m\u001b[0;34m.\u001b[0m\u001b[0mastype\u001b[0m\u001b[0;34m(\u001b[0m\u001b[0mdtype\u001b[0m\u001b[0;34m,\u001b[0m \u001b[0mcopy\u001b[0m\u001b[0;34m=\u001b[0m\u001b[0;32mFalse\u001b[0m\u001b[0;34m)\u001b[0m\u001b[0;34m\u001b[0m\u001b[0;34m\u001b[0m\u001b[0m\n\u001b[1;32m    104\u001b[0m \u001b[0;34m\u001b[0m\u001b[0m\n\u001b[0;32m--> 105\u001b[0;31m         \u001b[0mself\u001b[0m\u001b[0;34m.\u001b[0m\u001b[0mcheck_format\u001b[0m\u001b[0;34m(\u001b[0m\u001b[0mfull_check\u001b[0m\u001b[0;34m=\u001b[0m\u001b[0;32mFalse\u001b[0m\u001b[0;34m)\u001b[0m\u001b[0;34m\u001b[0m\u001b[0;34m\u001b[0m\u001b[0m\n\u001b[0m\u001b[1;32m    106\u001b[0m \u001b[0;34m\u001b[0m\u001b[0m\n\u001b[1;32m    107\u001b[0m     \u001b[0;32mdef\u001b[0m \u001b[0mgetnnz\u001b[0m\u001b[0;34m(\u001b[0m\u001b[0mself\u001b[0m\u001b[0;34m,\u001b[0m \u001b[0maxis\u001b[0m\u001b[0;34m=\u001b[0m\u001b[0;32mNone\u001b[0m\u001b[0;34m)\u001b[0m\u001b[0;34m:\u001b[0m\u001b[0;34m\u001b[0m\u001b[0;34m\u001b[0m\u001b[0m\n",
      "\u001b[0;32m/usr/local/lib/python3.6/dist-packages/scipy/sparse/compressed.py\u001b[0m in \u001b[0;36mcheck_format\u001b[0;34m(self, full_check)\u001b[0m\n\u001b[1;32m    178\u001b[0m                              \"the size of index and data arrays\")\n\u001b[1;32m    179\u001b[0m \u001b[0;34m\u001b[0m\u001b[0m\n\u001b[0;32m--> 180\u001b[0;31m         \u001b[0mself\u001b[0m\u001b[0;34m.\u001b[0m\u001b[0mprune\u001b[0m\u001b[0;34m(\u001b[0m\u001b[0;34m)\u001b[0m\u001b[0;34m\u001b[0m\u001b[0;34m\u001b[0m\u001b[0m\n\u001b[0m\u001b[1;32m    181\u001b[0m \u001b[0;34m\u001b[0m\u001b[0m\n\u001b[1;32m    182\u001b[0m         \u001b[0;32mif\u001b[0m \u001b[0mfull_check\u001b[0m\u001b[0;34m:\u001b[0m\u001b[0;34m\u001b[0m\u001b[0;34m\u001b[0m\u001b[0m\n",
      "\u001b[0;32m/usr/local/lib/python3.6/dist-packages/scipy/sparse/compressed.py\u001b[0m in \u001b[0;36mprune\u001b[0;34m(self)\u001b[0m\n\u001b[1;32m   1154\u001b[0m             \u001b[0;32mraise\u001b[0m \u001b[0mValueError\u001b[0m\u001b[0;34m(\u001b[0m\u001b[0;34m'data array has fewer than nnz elements'\u001b[0m\u001b[0;34m)\u001b[0m\u001b[0;34m\u001b[0m\u001b[0;34m\u001b[0m\u001b[0m\n\u001b[1;32m   1155\u001b[0m \u001b[0;34m\u001b[0m\u001b[0m\n\u001b[0;32m-> 1156\u001b[0;31m         \u001b[0mself\u001b[0m\u001b[0;34m.\u001b[0m\u001b[0mindices\u001b[0m \u001b[0;34m=\u001b[0m \u001b[0m_prune_array\u001b[0m\u001b[0;34m(\u001b[0m\u001b[0mself\u001b[0m\u001b[0;34m.\u001b[0m\u001b[0mindices\u001b[0m\u001b[0;34m[\u001b[0m\u001b[0;34m:\u001b[0m\u001b[0mself\u001b[0m\u001b[0;34m.\u001b[0m\u001b[0mnnz\u001b[0m\u001b[0;34m]\u001b[0m\u001b[0;34m)\u001b[0m\u001b[0;34m\u001b[0m\u001b[0;34m\u001b[0m\u001b[0m\n\u001b[0m\u001b[1;32m   1157\u001b[0m         \u001b[0mself\u001b[0m\u001b[0;34m.\u001b[0m\u001b[0mdata\u001b[0m \u001b[0;34m=\u001b[0m \u001b[0m_prune_array\u001b[0m\u001b[0;34m(\u001b[0m\u001b[0mself\u001b[0m\u001b[0;34m.\u001b[0m\u001b[0mdata\u001b[0m\u001b[0;34m[\u001b[0m\u001b[0;34m:\u001b[0m\u001b[0mself\u001b[0m\u001b[0;34m.\u001b[0m\u001b[0mnnz\u001b[0m\u001b[0;34m]\u001b[0m\u001b[0;34m)\u001b[0m\u001b[0;34m\u001b[0m\u001b[0;34m\u001b[0m\u001b[0m\n\u001b[1;32m   1158\u001b[0m \u001b[0;34m\u001b[0m\u001b[0m\n",
      "\u001b[0;31mKeyboardInterrupt\u001b[0m: "
     ]
    }
   ],
   "source": [
    "comm_dict = partition(G)\n",
    "\n",
    "for comm in set(comm_dict.values()):\n",
    "    print(\"Community %d\"%comm)\n",
    "    print(', '.join([str(node) for node in comm_dict if comm_dict[node] == comm]))\n",
    "    \n",
    "print('Modularity of such partition for karate is %.3f' % get_modularity(G, comm_dict))"
   ]
  },
  {
   "cell_type": "markdown",
   "id": "divine-keyboard",
   "metadata": {},
   "source": [
    "# Modularity Maximization with Greedy Algorithm"
   ]
  },
  {
   "cell_type": "code",
   "execution_count": null,
   "id": "incorporated-student",
   "metadata": {},
   "outputs": [],
   "source": [
    "nx.info(G)"
   ]
  },
  {
   "cell_type": "code",
   "execution_count": null,
   "id": "pregnant-fishing",
   "metadata": {},
   "outputs": [],
   "source": [
    "# greedy_modularity_communities(G)"
   ]
  },
  {
   "cell_type": "code",
   "execution_count": null,
   "id": "sophisticated-portal",
   "metadata": {},
   "outputs": [],
   "source": [
    "greedy_module_comms = nx.algorithms.community.greedy_modularity_communities(G)"
   ]
  },
  {
   "cell_type": "code",
   "execution_count": null,
   "id": "otherwise-directive",
   "metadata": {},
   "outputs": [],
   "source": [
    "greedy_dict = {}\n",
    "\n",
    "for i, value in enumerate(greedy_module_comms):\n",
    "    values = list(value)\n",
    "    for v in values:\n",
    "        greedy_dict[v] = i"
   ]
  },
  {
   "cell_type": "code",
   "execution_count": null,
   "id": "ecological-jewelry",
   "metadata": {},
   "outputs": [],
   "source": [
    "for comm in set(greedy_dict.values()):\n",
    "    print(\"Community %d\"%comm)\n",
    "    print(comm)\n",
    "    print(', '.join([str(node) for node in greedy_dict if greedy_dict[node] == comm]))"
   ]
  },
  {
   "cell_type": "code",
   "execution_count": null,
   "id": "naked-vegetation",
   "metadata": {
    "scrolled": true
   },
   "outputs": [],
   "source": [
    "print('Modularity of such partition for karate is %.3f' % get_modularity(G, greedy_dict))"
   ]
  },
  {
   "cell_type": "code",
   "execution_count": null,
   "id": "cb571ca2",
   "metadata": {},
   "outputs": [],
   "source": []
  },
  {
   "cell_type": "code",
   "execution_count": null,
   "id": "egyptian-election",
   "metadata": {},
   "outputs": [],
   "source": [
    "plt.figure(figsize=(10,10))\n",
    "pos = nx.spring_layout(G, scale=4)\n",
    "nx.draw(G, pos, node_color=range(len(G.nodes)), node_size=1000, with_labels=True, cmap=plt.cm.Blues)\n",
    "plt.title('Community Detection with betweenness')\n",
    "plt.show()\n",
    "plt.savefig('betweenness.jpg')"
   ]
  },
  {
   "cell_type": "markdown",
   "id": "introductory-palmer",
   "metadata": {},
   "source": [
    "# Performance Metric"
   ]
  },
  {
   "cell_type": "markdown",
   "id": "crazy-relevance",
   "metadata": {},
   "source": [
    "* Betweenness > Girvan-Newman Algorithm\n",
    "\n",
    "* Partition > Newman \n",
    "https://github.com/zhiyzuo/python-modularity-maximization/blob/master/modularity_maximization/community_newman.py\n",
    "https://arxiv.org/abs/physics/0602124\n",
    "\n",
    "* modularity_max greedy_modularity communities\n",
    "Clauset-Newman-Moore greedy modularity maximization"
   ]
  },
  {
   "cell_type": "code",
   "execution_count": 7,
   "id": "legal-theorem",
   "metadata": {},
   "outputs": [],
   "source": [
    "edge_mean_th95 = '../dataset_v2/edge_mean_th95_v2.csv' \n",
    "edge_mean_top5 = '../dataset_v2/edge_mean_top5_v2.csv'\n",
    "edge_mice_th95 = '../dataset_v2/edge_mice_th95_v2.csv'\n",
    "edge_mice_top5 = '../dataset_v2/edge_mice_top5_v2.csv'\n",
    "edge_grape_th95 = '../dataset_v2/edge_GRAPE_th95_v2.csv'\n",
    "edge_grape_top5 = '../dataset_v2/edge_GRAPE_top5_v2.csv'\n",
    "edge_original_th95 = '../dataset/edge_Original_th95.csv'\n",
    "edge_original_top5 = '../dataset/edge_Original_top5.csv'"
   ]
  },
  {
   "cell_type": "code",
   "execution_count": 8,
   "id": "recognized-provision",
   "metadata": {},
   "outputs": [],
   "source": [
    "datalist = [edge_original_th95, edge_original_top5, edge_mean_th95, edge_mean_top5, edge_mice_th95, edge_mice_top5, edge_grape_th95, edge_grape_top5]"
   ]
  },
  {
   "cell_type": "code",
   "execution_count": 9,
   "id": "removed-simple",
   "metadata": {},
   "outputs": [],
   "source": [
    "# criterion for most valuable edge (can be changed)\n",
    "def most_central_edge(G):\n",
    "    centrality = betweenness(G, weight=\"weight\")\n",
    "    # print(centrality)\n",
    "    return max(centrality, key=centrality.get)"
   ]
  },
  {
   "cell_type": "code",
   "execution_count": 10,
   "id": "lasting-enemy",
   "metadata": {},
   "outputs": [],
   "source": [
    "def modularity_calculation(dataset):\n",
    "    print('='*50)\n",
    "    dataset_name = dataset.split(\"/\")[-1]\n",
    "    print(f'[[Dataset: {dataset_name}]]')\n",
    "    # import data\n",
    "    df = pd.read_csv(dataset, index_col =0, dtype='int64')\n",
    "    df = df.rename(columns={'0': 'dst', '1':'src'})\n",
    "\n",
    "    # define edge_list (u,v)\n",
    "    edge_list = list(df.itertuples(index=False, name=None))\n",
    "\n",
    "    # define node_list\n",
    "    node_list = [x for x in range(max(df['dst']))]\n",
    "\n",
    "    # Create Graph \n",
    "    G = nx.Graph()\n",
    "\n",
    "    # Add node and edge to graph\n",
    "    G.add_nodes_from(node_list)\n",
    "    G.add_edges_from(edge_list)\n",
    "    \n",
    "#     Delete node which does not have neighborhood\n",
    "#     print('Delete node with no neighborhood: {} \\n'.format(list(nx.isolates(G))))\n",
    "#     G.remove_nodes_from(list(nx.isolates(G)))\n",
    "#     print('Number of node:',len(G.nodes))\n",
    "    \n",
    "    print('{Partition > Eigenvector based clustering}')\n",
    "    eigen_dict = partition(G)\n",
    "\n",
    "#     for comm in set(comm_dict.values()):\n",
    "#         print(\"Community %d\"%comm)\n",
    "#         print(', '.join([str(node) for node in comm_dict if comm_dict[node] == comm]))\n",
    "        \n",
    "    print(f': Modularity of such partition for {dataset.split(\"/\")[-1]} is \\033[1m %.3f \\033[0m' % get_modularity(G, eigen_dict))\n",
    "    print()\n",
    "    print('-'*20)\n",
    "    print()\n",
    "    print('{Modularity Maximization}')\n",
    "    \n",
    "    greedy_module_comms = nx.algorithms.community.greedy_modularity_communities(G)\n",
    "    greedy_dict = {}\n",
    "\n",
    "    for i, value in enumerate(greedy_module_comms):\n",
    "        values = list(value)\n",
    "        for v in values:\n",
    "            greedy_dict[v] = i\n",
    "    \n",
    "    print(f': Modularity of such partition for {dataset.split(\"/\")[-1]} is \\033[1m %.3f \\033[0m' % get_modularity(G, greedy_dict))\n",
    "    print()\n",
    "    print('-'*20)\n",
    "    print()\n",
    "    print('{Betweenness}')\n",
    "    \n",
    "    communities = girvan_newman(G, most_valuable_edge=most_central_edge)\n",
    "\n",
    "    node_groups = []\n",
    "    for com in next(communities):\n",
    "        node_groups.append(list(com))\n",
    "\n",
    "    between_dict = {}\n",
    "    for i, value in enumerate(node_groups):\n",
    "        for v in value:\n",
    "            between_dict[v] = i\n",
    "    \n",
    "    print(f': Modularity of such partition for {dataset.split(\"/\")[-1]} is \\033[1m %.3f \\033[0m' % get_modularity(G, between_dict))\n",
    "    print()\n",
    "    print('-'*20)\n",
    "    print()\n",
    "    print('{Walk Trap}')\n",
    "    \n",
    "    walktrap = algorithms.walktrap(G)\n",
    "    walk_comms=walktrap.communities\n",
    "    walktrap_dict = {}\n",
    "\n",
    "    for i, value in enumerate(walk_comms):\n",
    "        values = list(value)\n",
    "        for v in values:\n",
    "            walktrap_dict[v] = i\n",
    "            \n",
    "    total_data = {'eigen': eigen_dict,\n",
    "                  'greedy': greedy_dict,\n",
    "                  'between': between_dict,\n",
    "                  'walktrap': walktrap_dict} \n",
    "    \n",
    "    print(f': Modularity of such partition for {dataset.split(\"/\")[-1]} is \\033[1m %.3f \\033[0m' % get_modularity(G, walktrap_dict))\n",
    "    with open(f'{dataset_name}.pickle', 'wb') as f:\n",
    "        pickle.dump(total_data, f)"
   ]
  },
  {
   "cell_type": "code",
   "execution_count": 11,
   "id": "hollow-allocation",
   "metadata": {
    "scrolled": true
   },
   "outputs": [
    {
     "name": "stdout",
     "output_type": "stream",
     "text": [
      "==================================================\n",
      "[[Dataset: edge_Original_th95.csv]]\n",
      "{Partition > Eigenvector based clustering}\n",
      "Calculating modularity for undirected graph\n",
      ": Modularity of such partition for edge_Original_th95.csv is \u001b[1m 0.783 \u001b[0m\n",
      "\n",
      "--------------------\n",
      "\n",
      "{Modularity Maximization}\n",
      "Calculating modularity for undirected graph\n",
      ": Modularity of such partition for edge_Original_th95.csv is \u001b[1m 0.783 \u001b[0m\n",
      "\n",
      "--------------------\n",
      "\n",
      "{Betweenness}\n",
      "Calculating modularity for undirected graph\n",
      ": Modularity of such partition for edge_Original_th95.csv is \u001b[1m 0.720 \u001b[0m\n",
      "\n",
      "--------------------\n",
      "\n",
      "{Walk Trap}\n",
      "Calculating modularity for undirected graph\n",
      ": Modularity of such partition for edge_Original_th95.csv is \u001b[1m 0.760 \u001b[0m\n",
      "==================================================\n",
      "[[Dataset: edge_Original_top5.csv]]\n",
      "{Partition > Eigenvector based clustering}\n",
      "Calculating modularity for undirected graph\n",
      ": Modularity of such partition for edge_Original_top5.csv is \u001b[1m 0.757 \u001b[0m\n",
      "\n",
      "--------------------\n",
      "\n",
      "{Modularity Maximization}\n",
      "Calculating modularity for undirected graph\n",
      ": Modularity of such partition for edge_Original_top5.csv is \u001b[1m 0.738 \u001b[0m\n",
      "\n",
      "--------------------\n",
      "\n",
      "{Betweenness}\n",
      "Calculating modularity for undirected graph\n",
      ": Modularity of such partition for edge_Original_top5.csv is \u001b[1m 0.738 \u001b[0m\n",
      "\n",
      "--------------------\n",
      "\n",
      "{Walk Trap}\n",
      "Calculating modularity for undirected graph\n",
      ": Modularity of such partition for edge_Original_top5.csv is \u001b[1m 0.742 \u001b[0m\n",
      "==================================================\n",
      "[[Dataset: edge_mean_th95_v2.csv]]\n",
      "{Partition > Eigenvector based clustering}\n",
      "Calculating modularity for undirected graph\n",
      ": Modularity of such partition for edge_mean_th95_v2.csv is \u001b[1m 0.414 \u001b[0m\n",
      "\n",
      "--------------------\n",
      "\n",
      "{Modularity Maximization}\n",
      "Calculating modularity for undirected graph\n",
      ": Modularity of such partition for edge_mean_th95_v2.csv is \u001b[1m 0.405 \u001b[0m\n",
      "\n",
      "--------------------\n",
      "\n",
      "{Betweenness}\n",
      "Calculating modularity for undirected graph\n",
      ": Modularity of such partition for edge_mean_th95_v2.csv is \u001b[1m 0.219 \u001b[0m\n",
      "\n",
      "--------------------\n",
      "\n",
      "{Walk Trap}\n",
      "Calculating modularity for undirected graph\n",
      ": Modularity of such partition for edge_mean_th95_v2.csv is \u001b[1m 0.386 \u001b[0m\n",
      "==================================================\n",
      "[[Dataset: edge_mean_top5_v2.csv]]\n",
      "{Partition > Eigenvector based clustering}\n",
      "Calculating modularity for undirected graph\n",
      ": Modularity of such partition for edge_mean_top5_v2.csv is \u001b[1m 0.637 \u001b[0m\n",
      "\n",
      "--------------------\n",
      "\n",
      "{Modularity Maximization}\n",
      "Calculating modularity for undirected graph\n",
      ": Modularity of such partition for edge_mean_top5_v2.csv is \u001b[1m 0.609 \u001b[0m\n",
      "\n",
      "--------------------\n",
      "\n",
      "{Betweenness}\n",
      "Calculating modularity for undirected graph\n",
      ": Modularity of such partition for edge_mean_top5_v2.csv is \u001b[1m 0.500 \u001b[0m\n",
      "\n",
      "--------------------\n",
      "\n",
      "{Walk Trap}\n",
      "Calculating modularity for undirected graph\n",
      ": Modularity of such partition for edge_mean_top5_v2.csv is \u001b[1m 0.615 \u001b[0m\n",
      "==================================================\n",
      "[[Dataset: edge_mice_th95_v2.csv]]\n",
      "{Partition > Eigenvector based clustering}\n",
      "Calculating modularity for undirected graph\n",
      ": Modularity of such partition for edge_mice_th95_v2.csv is \u001b[1m 0.000 \u001b[0m\n",
      "\n",
      "--------------------\n",
      "\n",
      "{Modularity Maximization}\n",
      "Calculating modularity for undirected graph\n",
      ": Modularity of such partition for edge_mice_th95_v2.csv is \u001b[1m 0.000 \u001b[0m\n",
      "\n",
      "--------------------\n",
      "\n",
      "{Betweenness}\n",
      "Calculating modularity for undirected graph\n",
      ": Modularity of such partition for edge_mice_th95_v2.csv is \u001b[1m -0.000 \u001b[0m\n",
      "\n",
      "--------------------\n",
      "\n",
      "{Walk Trap}\n"
     ]
    },
    {
     "ename": "InternalError",
     "evalue": "Error at src/community/community_misc.c:116: Number of steps is greater than number of rows in merges matrix: found 141 steps, 139 rows. -- Invalid value",
     "output_type": "error",
     "traceback": [
      "\u001b[0;31m---------------------------------------------------------------------------\u001b[0m",
      "\u001b[0;31mInternalError\u001b[0m                             Traceback (most recent call last)",
      "\u001b[0;32m<ipython-input-11-9132b7f2441b>\u001b[0m in \u001b[0;36m<module>\u001b[0;34m\u001b[0m\n\u001b[1;32m      1\u001b[0m \u001b[0;32mfor\u001b[0m \u001b[0mdata\u001b[0m \u001b[0;32min\u001b[0m \u001b[0mdatalist\u001b[0m\u001b[0;34m:\u001b[0m\u001b[0;34m\u001b[0m\u001b[0;34m\u001b[0m\u001b[0m\n\u001b[0;32m----> 2\u001b[0;31m     \u001b[0mmodularity_calculation\u001b[0m\u001b[0;34m(\u001b[0m\u001b[0mdata\u001b[0m\u001b[0;34m)\u001b[0m\u001b[0;34m\u001b[0m\u001b[0;34m\u001b[0m\u001b[0m\n\u001b[0m",
      "\u001b[0;32m<ipython-input-10-5bffcaddb5f1>\u001b[0m in \u001b[0;36mmodularity_calculation\u001b[0;34m(dataset)\u001b[0m\n\u001b[1;32m     69\u001b[0m     \u001b[0mprint\u001b[0m\u001b[0;34m(\u001b[0m\u001b[0;34m'{Walk Trap}'\u001b[0m\u001b[0;34m)\u001b[0m\u001b[0;34m\u001b[0m\u001b[0;34m\u001b[0m\u001b[0m\n\u001b[1;32m     70\u001b[0m \u001b[0;34m\u001b[0m\u001b[0m\n\u001b[0;32m---> 71\u001b[0;31m     \u001b[0mwalktrap\u001b[0m \u001b[0;34m=\u001b[0m \u001b[0malgorithms\u001b[0m\u001b[0;34m.\u001b[0m\u001b[0mwalktrap\u001b[0m\u001b[0;34m(\u001b[0m\u001b[0mG\u001b[0m\u001b[0;34m)\u001b[0m\u001b[0;34m\u001b[0m\u001b[0;34m\u001b[0m\u001b[0m\n\u001b[0m\u001b[1;32m     72\u001b[0m     \u001b[0mwalk_comms\u001b[0m\u001b[0;34m=\u001b[0m\u001b[0mwalktrap\u001b[0m\u001b[0;34m.\u001b[0m\u001b[0mcommunities\u001b[0m\u001b[0;34m\u001b[0m\u001b[0;34m\u001b[0m\u001b[0m\n\u001b[1;32m     73\u001b[0m     \u001b[0mwalktrap_dict\u001b[0m \u001b[0;34m=\u001b[0m \u001b[0;34m{\u001b[0m\u001b[0;34m}\u001b[0m\u001b[0;34m\u001b[0m\u001b[0;34m\u001b[0m\u001b[0m\n",
      "\u001b[0;32m/usr/local/lib/python3.6/dist-packages/cdlib/algorithms/crisp_partition.py\u001b[0m in \u001b[0;36mwalktrap\u001b[0;34m(g_original)\u001b[0m\n\u001b[1;32m    736\u001b[0m \u001b[0;34m\u001b[0m\u001b[0m\n\u001b[1;32m    737\u001b[0m     \u001b[0mg\u001b[0m \u001b[0;34m=\u001b[0m \u001b[0mconvert_graph_formats\u001b[0m\u001b[0;34m(\u001b[0m\u001b[0mg_original\u001b[0m\u001b[0;34m,\u001b[0m \u001b[0mig\u001b[0m\u001b[0;34m.\u001b[0m\u001b[0mGraph\u001b[0m\u001b[0;34m)\u001b[0m\u001b[0;34m\u001b[0m\u001b[0;34m\u001b[0m\u001b[0m\n\u001b[0;32m--> 738\u001b[0;31m     \u001b[0mcoms\u001b[0m \u001b[0;34m=\u001b[0m \u001b[0mg\u001b[0m\u001b[0;34m.\u001b[0m\u001b[0mcommunity_walktrap\u001b[0m\u001b[0;34m(\u001b[0m\u001b[0;34m)\u001b[0m\u001b[0;34m.\u001b[0m\u001b[0mas_clustering\u001b[0m\u001b[0;34m(\u001b[0m\u001b[0;34m)\u001b[0m\u001b[0;34m\u001b[0m\u001b[0;34m\u001b[0m\u001b[0m\n\u001b[0m\u001b[1;32m    739\u001b[0m     \u001b[0mcommunities\u001b[0m \u001b[0;34m=\u001b[0m \u001b[0;34m[\u001b[0m\u001b[0;34m]\u001b[0m\u001b[0;34m\u001b[0m\u001b[0;34m\u001b[0m\u001b[0m\n\u001b[1;32m    740\u001b[0m \u001b[0;34m\u001b[0m\u001b[0m\n",
      "\u001b[0;32m/usr/local/lib/python3.6/dist-packages/igraph/clustering.py\u001b[0m in \u001b[0;36mas_clustering\u001b[0;34m(self, n)\u001b[0m\n\u001b[1;32m    976\u001b[0m         \u001b[0mnum_elts\u001b[0m \u001b[0;34m=\u001b[0m \u001b[0mself\u001b[0m\u001b[0;34m.\u001b[0m\u001b[0m_graph\u001b[0m\u001b[0;34m.\u001b[0m\u001b[0mvcount\u001b[0m\u001b[0;34m(\u001b[0m\u001b[0;34m)\u001b[0m\u001b[0;34m\u001b[0m\u001b[0;34m\u001b[0m\u001b[0m\n\u001b[1;32m    977\u001b[0m         \u001b[0midgen\u001b[0m \u001b[0;34m=\u001b[0m \u001b[0mUniqueIdGenerator\u001b[0m\u001b[0;34m(\u001b[0m\u001b[0;34m)\u001b[0m\u001b[0;34m\u001b[0m\u001b[0;34m\u001b[0m\u001b[0m\n\u001b[0;32m--> 978\u001b[0;31m         \u001b[0mmembership\u001b[0m \u001b[0;34m=\u001b[0m \u001b[0mcommunity_to_membership\u001b[0m\u001b[0;34m(\u001b[0m\u001b[0mself\u001b[0m\u001b[0;34m.\u001b[0m\u001b[0m_merges\u001b[0m\u001b[0;34m,\u001b[0m \u001b[0mnum_elts\u001b[0m\u001b[0;34m,\u001b[0m \u001b[0mnum_elts\u001b[0m \u001b[0;34m-\u001b[0m \u001b[0mn\u001b[0m\u001b[0;34m)\u001b[0m\u001b[0;34m\u001b[0m\u001b[0;34m\u001b[0m\u001b[0m\n\u001b[0m\u001b[1;32m    979\u001b[0m         \u001b[0mmembership\u001b[0m \u001b[0;34m=\u001b[0m \u001b[0;34m[\u001b[0m\u001b[0midgen\u001b[0m\u001b[0;34m[\u001b[0m\u001b[0mm\u001b[0m\u001b[0;34m]\u001b[0m \u001b[0;32mfor\u001b[0m \u001b[0mm\u001b[0m \u001b[0;32min\u001b[0m \u001b[0mmembership\u001b[0m\u001b[0;34m]\u001b[0m\u001b[0;34m\u001b[0m\u001b[0;34m\u001b[0m\u001b[0m\n\u001b[1;32m    980\u001b[0m         return VertexClustering(\n",
      "\u001b[0;31mInternalError\u001b[0m: Error at src/community/community_misc.c:116: Number of steps is greater than number of rows in merges matrix: found 141 steps, 139 rows. -- Invalid value"
     ]
    }
   ],
   "source": [
    "for data in datalist:\n",
    "    modularity_calculation(data)"
   ]
  }
 ],
 "metadata": {
  "kernelspec": {
   "display_name": "Python 3",
   "language": "python",
   "name": "python3"
  },
  "language_info": {
   "codemirror_mode": {
    "name": "ipython",
    "version": 3
   },
   "file_extension": ".py",
   "mimetype": "text/x-python",
   "name": "python",
   "nbconvert_exporter": "python",
   "pygments_lexer": "ipython3",
   "version": "3.6.9"
  }
 },
 "nbformat": 4,
 "nbformat_minor": 5
}
