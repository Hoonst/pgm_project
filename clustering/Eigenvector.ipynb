{
 "cells": [
  {
   "cell_type": "code",
   "execution_count": 17,
   "id": "static-contest",
   "metadata": {},
   "outputs": [],
   "source": [
    "import numpy as np\n",
    "import itertools\n",
    "import pandas as pd\n",
    "import matplotlib.pyplot as plt\n",
    "\n",
    "import networkx as nx\n",
    "from networkx import edge_betweenness_centrality as betweenness\n",
    "from networkx.algorithms.community.centrality import girvan_newman\n",
    "\n",
    "from modularity_maximization import partition\n",
    "from modularity_maximization.utils import get_modularity\n",
    "\n",
    "# import data\n",
    "df = pd.read_csv('../dataset/edge_mean_th95.csv', index_col =0, dtype='int64')"
   ]
  },
  {
   "cell_type": "code",
   "execution_count": 19,
   "id": "metropolitan-civilization",
   "metadata": {},
   "outputs": [],
   "source": [
    "dataset = '../dataset/edge_mean_th95.csv'\n",
    "\n",
    "# import data\n",
    "df = pd.read_csv(dataset, index_col =0, dtype='int64')\n",
    "\n",
    "# define edge_list (u,v)\n",
    "edge_list = list(df.itertuples(index=False, name=None))\n",
    "\n",
    "# define node_list\n",
    "node_list = [x for x in range(max(df['dst']))]\n",
    "\n",
    "# Create Graph \n",
    "G = nx.Graph()\n",
    "\n",
    "# Add node and edge to graph\n",
    "G.add_nodes_from(node_list)\n",
    "G.add_edges_from(edge_list)\n",
    "\n",
    "# Delete node which does not have neighborhood\n",
    "print('Delete node with no neighborhood: {} \\n'.format(list(nx.isolates(G))))\n",
    "G.remove_nodes_from(list(nx.isolates(G)))\n",
    "print('Number of node:',len(G.nodes))"
   ]
  },
  {
   "cell_type": "code",
   "execution_count": 23,
   "id": "heard-establishment",
   "metadata": {},
   "outputs": [],
   "source": [
    "# criterion for most valuable edge (can be changed)\n",
    "def most_central_edge(G):\n",
    "    centrality = betweenness(G, weight=\"weight\")\n",
    "    # print(centrality)\n",
    "    return max(centrality, key=centrality.get)"
   ]
  },
  {
   "cell_type": "markdown",
   "id": "organic-subsection",
   "metadata": {},
   "source": [
    "# Eigenvector \n",
    "Partition 자체가 Modularity Matrix에 대한 Eigenvector"
   ]
  },
  {
   "cell_type": "code",
   "execution_count": 24,
   "id": "intended-aircraft",
   "metadata": {},
   "outputs": [
    {
     "data": {
      "text/plain": [
       "'Name: \\nType: Graph\\nNumber of nodes: 91\\nNumber of edges: 169\\nAverage degree:   3.7143'"
      ]
     },
     "execution_count": 24,
     "metadata": {},
     "output_type": "execute_result"
    }
   ],
   "source": [
    "nx.info(G)"
   ]
  },
  {
   "cell_type": "code",
   "execution_count": 25,
   "id": "governmental-thread",
   "metadata": {},
   "outputs": [],
   "source": [
    "comm_dict = partition(G)"
   ]
  },
  {
   "cell_type": "code",
   "execution_count": 27,
   "id": "powered-visibility",
   "metadata": {},
   "outputs": [
    {
     "name": "stdout",
     "output_type": "stream",
     "text": [
      "Community 4\n",
      "5, 28, 32, 40, 43, 50, 62, 66, 67, 69, 86, 100, 111, 123, 127, 132, 137\n",
      "Community 7\n",
      "9, 22, 26, 29, 33, 41, 91, 122, 126, 130\n",
      "Community 11\n",
      "0, 6, 8, 30, 36, 37, 46, 58, 75, 94, 102, 110, 119, 136, 141\n",
      "Community 12\n",
      "39, 48, 54, 55, 56, 76, 82, 95, 125\n",
      "Community 14\n",
      "4, 15, 114, 121\n",
      "Community 15\n",
      "83, 96, 115\n",
      "Community 16\n",
      "7, 13, 35, 38, 70, 78, 90, 98, 120, 135\n",
      "Community 17\n",
      "1, 2, 34, 42, 45, 59, 85, 97\n",
      "Community 18\n",
      "17, 68, 106, 108, 118, 139\n",
      "Community 20\n",
      "10, 11, 23, 134\n",
      "Community 21\n",
      "20, 129\n",
      "Community 22\n",
      "3, 19, 89\n"
     ]
    }
   ],
   "source": [
    "for comm in set(comm_dict.values()):\n",
    "    print(\"Community %d\"%comm)\n",
    "    print(', '.join([str(node) for node in comm_dict if comm_dict[node] == comm]))"
   ]
  },
  {
   "cell_type": "code",
   "execution_count": 28,
   "id": "conceptual-director",
   "metadata": {},
   "outputs": [
    {
     "name": "stdout",
     "output_type": "stream",
     "text": [
      "Calculating modularity for undirected graph\n",
      "Modularity of such partition for karate is 0.641\n"
     ]
    }
   ],
   "source": [
    "print('Modularity of such partition for karate is %.3f' % get_modularity(G, comm_dict))"
   ]
  },
  {
   "cell_type": "markdown",
   "id": "divine-keyboard",
   "metadata": {},
   "source": [
    "# Modularity Maximization with Greedy Algorithm"
   ]
  },
  {
   "cell_type": "code",
   "execution_count": 29,
   "id": "cultural-universe",
   "metadata": {},
   "outputs": [],
   "source": [
    "from networkx.algorithms.community import greedy_modularity_communities"
   ]
  },
  {
   "cell_type": "code",
   "execution_count": 30,
   "id": "incorporated-student",
   "metadata": {},
   "outputs": [
    {
     "data": {
      "text/plain": [
       "'Name: \\nType: Graph\\nNumber of nodes: 91\\nNumber of edges: 169\\nAverage degree:   3.7143'"
      ]
     },
     "execution_count": 30,
     "metadata": {},
     "output_type": "execute_result"
    }
   ],
   "source": [
    "nx.info(G)"
   ]
  },
  {
   "cell_type": "code",
   "execution_count": 37,
   "id": "pregnant-fishing",
   "metadata": {},
   "outputs": [
    {
     "data": {
      "text/plain": [
       "[frozenset({0,\n",
       "            6,\n",
       "            8,\n",
       "            30,\n",
       "            36,\n",
       "            37,\n",
       "            39,\n",
       "            46,\n",
       "            48,\n",
       "            54,\n",
       "            55,\n",
       "            56,\n",
       "            58,\n",
       "            75,\n",
       "            76,\n",
       "            82,\n",
       "            94,\n",
       "            95,\n",
       "            102,\n",
       "            110,\n",
       "            119,\n",
       "            125,\n",
       "            136,\n",
       "            141}),\n",
       " frozenset({5,\n",
       "            28,\n",
       "            32,\n",
       "            40,\n",
       "            43,\n",
       "            50,\n",
       "            62,\n",
       "            66,\n",
       "            67,\n",
       "            69,\n",
       "            86,\n",
       "            100,\n",
       "            111,\n",
       "            123,\n",
       "            127,\n",
       "            132,\n",
       "            137}),\n",
       " frozenset({4, 7, 13, 15, 35, 38, 70, 78, 90, 98, 114, 120, 121, 135}),\n",
       " frozenset({9, 22, 26, 29, 33, 41, 91, 122, 126, 130}),\n",
       " frozenset({1, 2, 34, 42, 45, 59, 85, 97}),\n",
       " frozenset({17, 68, 106, 108, 118, 139}),\n",
       " frozenset({10, 11, 23, 134}),\n",
       " frozenset({3, 19, 89}),\n",
       " frozenset({83, 96, 115}),\n",
       " frozenset({20, 129})]"
      ]
     },
     "execution_count": 37,
     "metadata": {},
     "output_type": "execute_result"
    }
   ],
   "source": [
    "# greedy_modularity_communities(G)"
   ]
  },
  {
   "cell_type": "code",
   "execution_count": 38,
   "id": "sophisticated-portal",
   "metadata": {},
   "outputs": [],
   "source": [
    "greedy_module_comms = nx.algorithms.community.greedy_modularity_communities(G)"
   ]
  },
  {
   "cell_type": "code",
   "execution_count": 43,
   "id": "otherwise-directive",
   "metadata": {},
   "outputs": [],
   "source": [
    "greedy_dict = {}\n",
    "\n",
    "for i, value in enumerate(greedy_module_comms):\n",
    "    values = list(value)\n",
    "    for v in values:\n",
    "        greedy_dict[v] = i"
   ]
  },
  {
   "cell_type": "code",
   "execution_count": 52,
   "id": "ecological-jewelry",
   "metadata": {},
   "outputs": [
    {
     "name": "stdout",
     "output_type": "stream",
     "text": [
      "Community 0\n",
      "0\n",
      "0, 6, 8, 136, 141, 30, 36, 37, 39, 46, 48, 54, 55, 56, 58, 75, 76, 82, 94, 95, 102, 110, 119, 125\n",
      "Community 1\n",
      "1\n",
      "32, 66, 67, 100, 5, 132, 69, 40, 137, 43, 111, 50, 86, 123, 28, 62, 127\n",
      "Community 2\n",
      "2\n",
      "98, 35, 4, 70, 7, 135, 38, 13, 78, 15, 114, 120, 121, 90\n",
      "Community 3\n",
      "3\n",
      "33, 130, 26, 41, 9, 22, 122, 91, 29, 126\n",
      "Community 4\n",
      "4\n",
      "1, 2, 34, 97, 42, 45, 85, 59\n",
      "Community 5\n",
      "5\n",
      "68, 106, 139, 108, 17, 118\n",
      "Community 6\n",
      "6\n",
      "10, 11, 134, 23\n",
      "Community 7\n",
      "7\n",
      "19, 89, 3\n",
      "Community 8\n",
      "8\n",
      "96, 83, 115\n",
      "Community 9\n",
      "9\n",
      "129, 20\n"
     ]
    }
   ],
   "source": [
    "for comm in set(greedy_dict.values()):\n",
    "    print(\"Community %d\"%comm)\n",
    "    print(comm)\n",
    "    print(', '.join([str(node) for node in greedy_dict if greedy_dict[node] == comm]))"
   ]
  },
  {
   "cell_type": "code",
   "execution_count": 53,
   "id": "naked-vegetation",
   "metadata": {},
   "outputs": [
    {
     "name": "stdout",
     "output_type": "stream",
     "text": [
      "Calculating modularity for undirected graph\n",
      "Modularity of such partition for karate is 0.627\n"
     ]
    }
   ],
   "source": [
    "print('Modularity of such partition for karate is %.3f' % get_modularity(G, greedy_dict))"
   ]
  },
  {
   "cell_type": "code",
   "execution_count": 56,
   "id": "egyptian-election",
   "metadata": {},
   "outputs": [
    {
     "data": {
      "image/png": "[encoded data removed]",
      "text/plain": [
       "<Figure size 720x720 with 1 Axes>"
      ]
     },
     "metadata": {},
     "output_type": "display_data"
    },
    {
     "data": {
      "text/plain": [
       "<Figure size 432x288 with 0 Axes>"
      ]
     },
     "metadata": {},
     "output_type": "display_data"
    }
   ],
   "source": [
    "plt.figure(figsize=(10,10))\n",
    "pos = nx.spring_layout(G, scale=4)\n",
    "nx.draw(G, pos, node_color=range(len(G.nodes)), node_size=1000, with_labels=True, cmap=plt.cm.Blues)\n",
    "plt.title('Community Detection with betweenness')\n",
    "plt.show()\n",
    "plt.savefig('betweenness.jpg')"
   ]
  },
  {
   "cell_type": "markdown",
   "id": "introductory-palmer",
   "metadata": {},
   "source": [
    "# Performance Metric"
   ]
  },
  {
   "cell_type": "code",
   "execution_count": 102,
   "id": "legal-theorem",
   "metadata": {},
   "outputs": [],
   "source": [
    "edge_mean_th95 = '../dataset/edge_mean_th95.csv' \n",
    "edge_mean_top5 = '../dataset/edge_mean_top5.csv'\n",
    "edge_mice_th95 = '../dataset/edge_mice_th95.csv'\n",
    "edge_mice_top5 = '../dataset/edge_mice_top5.csv'\n",
    "edge_grape_th90 = '../dataset/edge_GRAPE_th90.csv'\n",
    "edge_grape_top5 = '../dataset/edge_GRAPE_top5.csv'\n",
    "edge_original_th90 = '../dataset/edge_Original_th90.csv'\n",
    "edge_original_top5 = '../dataset/edge_Original_top5.csv'\n",
    "\n",
    "incomplete = '../dataset/incomplete.csv'"
   ]
  },
  {
   "cell_type": "code",
   "execution_count": 105,
   "id": "recognized-provision",
   "metadata": {},
   "outputs": [],
   "source": [
    "datalist = [edge_original_th90, edge_original_top5, edge_mean_th95, edge_mean_top5, edge_mice_th95, edge_mice_top5, edge_grape_th90, edge_grape_top5]"
   ]
  },
  {
   "cell_type": "code",
   "execution_count": 137,
   "id": "lasting-enemy",
   "metadata": {},
   "outputs": [],
   "source": [
    "def modularity_calculation(dataset):\n",
    "    print('='*50)\n",
    "    print(f'[[Dataset: {dataset.split(\"/\")[-1]}]]')\n",
    "    # import data\n",
    "    df = pd.read_csv(dataset, index_col =0, dtype='int64')\n",
    "\n",
    "    # define edge_list (u,v)\n",
    "    edge_list = list(df.itertuples(index=False, name=None))\n",
    "\n",
    "    # define node_list\n",
    "    node_list = [x for x in range(max(df['dst']))]\n",
    "\n",
    "    # Create Graph \n",
    "    G = nx.Graph()\n",
    "\n",
    "    # Add node and edge to graph\n",
    "    G.add_nodes_from(node_list)\n",
    "    G.add_edges_from(edge_list)\n",
    "\n",
    "#     # Delete node which does not have neighborhood\n",
    "#     print('Delete node with no neighborhood: {} \\n'.format(list(nx.isolates(G))))\n",
    "#     G.remove_nodes_from(list(nx.isolates(G)))\n",
    "#     print('Number of node:',len(G.nodes))\n",
    "    \n",
    "    print('{Partition > Eigenvector based clustering}')\n",
    "    comm_dict = partition(G)\n",
    "\n",
    "#     for comm in set(comm_dict.values()):\n",
    "#         print(\"Community %d\"%comm)\n",
    "#         print(', '.join([str(node) for node in comm_dict if comm_dict[node] == comm]))\n",
    "        \n",
    "    print(f': Modularity of such partition for {dataset.split(\"/\")[-1]} is \\033[1m %.3f \\033[0m' % get_modularity(G, comm_dict))\n",
    "    print()\n",
    "    print('-'*20)\n",
    "    print()\n",
    "    print('{Modularity Maximization}')\n",
    "    \n",
    "    greedy_module_comms = nx.algorithms.community.greedy_modularity_communities(G)\n",
    "    greedy_dict = {}\n",
    "\n",
    "    for i, value in enumerate(greedy_module_comms):\n",
    "        values = list(value)\n",
    "        for v in values:\n",
    "            greedy_dict[v] = i\n",
    "\n",
    "#     for comm in set(greedy_dict.values()):\n",
    "#         print(\"Community %d\"%comm)\n",
    "#         print(comm)\n",
    "#         print(', '.join([str(node) for node in greedy_dict if greedy_dict[node] == comm]))\n",
    "    \n",
    "    print(f': Modularity of such partition for {dataset.split(\"/\")[-1]} is \\033[1m %.3f \\033[0m' % get_modularity(G, greedy_dict))\n",
    "    print()\n",
    "    print('-'*20)\n",
    "    print()\n",
    "    print('{Betweenness}')\n",
    "    \n",
    "    communities = girvan_newman(G, most_valuable_edge=most_central_edge)\n",
    "\n",
    "    node_groups = []\n",
    "    for com in next(communities):\n",
    "        node_groups.append(list(com))\n",
    "\n",
    "    central_dict = {}\n",
    "    for i, value in enumerate(node_groups):\n",
    "        for v in value:\n",
    "            central_dict[v] = i\n",
    "    \n",
    "    print(f': Modularity of such partition for {dataset.split(\"/\")[-1]} is \\033[1m %.3f \\033[0m' % get_modularity(G, central_dict))\n",
    "    print()"
   ]
  },
  {
   "cell_type": "code",
   "execution_count": 138,
   "id": "hollow-allocation",
   "metadata": {
    "scrolled": false
   },
   "outputs": [
    {
     "name": "stdout",
     "output_type": "stream",
     "text": [
      "==================================================\n",
      "[[Dataset: edge_Original_th90.csv]]\n",
      "{Partition > Eigenvector based clustering}\n",
      "Calculating modularity for undirected graph\n",
      ": Modularity of such partition for edge_Original_th90.csv is \u001b[1m 0.625 \u001b[0m\n",
      "\n",
      "--------------------\n",
      "\n",
      "{Modularity Maximization}\n",
      "Calculating modularity for undirected graph\n",
      ": Modularity of such partition for edge_Original_th90.csv is \u001b[1m 0.603 \u001b[0m\n",
      "\n",
      "--------------------\n",
      "\n",
      "{Betweenness}\n",
      "Calculating modularity for undirected graph\n",
      ": Modularity of such partition for edge_Original_th90.csv is \u001b[1m 0.576 \u001b[0m\n",
      "\n",
      "==================================================\n",
      "[[Dataset: edge_Original_top5.csv]]\n",
      "{Partition > Eigenvector based clustering}\n",
      "Calculating modularity for undirected graph\n",
      ": Modularity of such partition for edge_Original_top5.csv is \u001b[1m 0.757 \u001b[0m\n",
      "\n",
      "--------------------\n",
      "\n",
      "{Modularity Maximization}\n",
      "Calculating modularity for undirected graph\n",
      ": Modularity of such partition for edge_Original_top5.csv is \u001b[1m 0.738 \u001b[0m\n",
      "\n",
      "--------------------\n",
      "\n",
      "{Betweenness}\n",
      "Calculating modularity for undirected graph\n",
      ": Modularity of such partition for edge_Original_top5.csv is \u001b[1m 0.738 \u001b[0m\n",
      "\n",
      "==================================================\n",
      "[[Dataset: edge_mean_th95.csv]]\n",
      "{Partition > Eigenvector based clustering}\n",
      "Calculating modularity for undirected graph\n",
      ": Modularity of such partition for edge_mean_th95.csv is \u001b[1m 0.641 \u001b[0m\n",
      "\n",
      "--------------------\n",
      "\n",
      "{Modularity Maximization}\n",
      "Calculating modularity for undirected graph\n",
      ": Modularity of such partition for edge_mean_th95.csv is \u001b[1m 0.627 \u001b[0m\n",
      "\n",
      "--------------------\n",
      "\n",
      "{Betweenness}\n",
      "Calculating modularity for undirected graph\n",
      ": Modularity of such partition for edge_mean_th95.csv is \u001b[1m 0.513 \u001b[0m\n",
      "\n",
      "==================================================\n",
      "[[Dataset: edge_mean_top5.csv]]\n",
      "{Partition > Eigenvector based clustering}\n",
      "Calculating modularity for undirected graph\n",
      ": Modularity of such partition for edge_mean_top5.csv is \u001b[1m 0.637 \u001b[0m\n",
      "\n",
      "--------------------\n",
      "\n",
      "{Modularity Maximization}\n",
      "Calculating modularity for undirected graph\n",
      ": Modularity of such partition for edge_mean_top5.csv is \u001b[1m 0.609 \u001b[0m\n",
      "\n",
      "--------------------\n",
      "\n",
      "{Betweenness}\n",
      "Calculating modularity for undirected graph\n",
      ": Modularity of such partition for edge_mean_top5.csv is \u001b[1m 0.500 \u001b[0m\n",
      "\n",
      "==================================================\n",
      "[[Dataset: edge_mice_th95.csv]]\n",
      "{Partition > Eigenvector based clustering}\n",
      "Calculating modularity for undirected graph\n",
      ": Modularity of such partition for edge_mice_th95.csv is \u001b[1m 0.708 \u001b[0m\n",
      "\n",
      "--------------------\n",
      "\n",
      "{Modularity Maximization}\n",
      "Calculating modularity for undirected graph\n",
      ": Modularity of such partition for edge_mice_th95.csv is \u001b[1m 0.713 \u001b[0m\n",
      "\n",
      "--------------------\n",
      "\n",
      "{Betweenness}\n",
      "Calculating modularity for undirected graph\n",
      ": Modularity of such partition for edge_mice_th95.csv is \u001b[1m 0.642 \u001b[0m\n",
      "\n",
      "==================================================\n",
      "[[Dataset: edge_mice_top5.csv]]\n",
      "{Partition > Eigenvector based clustering}\n",
      "Calculating modularity for undirected graph\n",
      ": Modularity of such partition for edge_mice_top5.csv is \u001b[1m 0.697 \u001b[0m\n",
      "\n",
      "--------------------\n",
      "\n",
      "{Modularity Maximization}\n",
      "Calculating modularity for undirected graph\n",
      ": Modularity of such partition for edge_mice_top5.csv is \u001b[1m 0.649 \u001b[0m\n",
      "\n",
      "--------------------\n",
      "\n",
      "{Betweenness}\n",
      "Calculating modularity for undirected graph\n",
      ": Modularity of such partition for edge_mice_top5.csv is \u001b[1m 0.607 \u001b[0m\n",
      "\n",
      "==================================================\n",
      "[[Dataset: edge_GRAPE_th90.csv]]\n",
      "{Partition > Eigenvector based clustering}\n",
      "Calculating modularity for undirected graph\n",
      ": Modularity of such partition for edge_GRAPE_th90.csv is \u001b[1m 0.750 \u001b[0m\n",
      "\n",
      "--------------------\n",
      "\n",
      "{Modularity Maximization}\n",
      "Calculating modularity for undirected graph\n",
      ": Modularity of such partition for edge_GRAPE_th90.csv is \u001b[1m 0.735 \u001b[0m\n",
      "\n",
      "--------------------\n",
      "\n",
      "{Betweenness}\n",
      "Calculating modularity for undirected graph\n",
      ": Modularity of such partition for edge_GRAPE_th90.csv is \u001b[1m 0.725 \u001b[0m\n",
      "\n",
      "==================================================\n",
      "[[Dataset: edge_GRAPE_top5.csv]]\n",
      "{Partition > Eigenvector based clustering}\n",
      "Calculating modularity for undirected graph\n",
      ": Modularity of such partition for edge_GRAPE_top5.csv is \u001b[1m 0.721 \u001b[0m\n",
      "\n",
      "--------------------\n",
      "\n",
      "{Modularity Maximization}\n",
      "Calculating modularity for undirected graph\n",
      ": Modularity of such partition for edge_GRAPE_top5.csv is \u001b[1m 0.686 \u001b[0m\n",
      "\n",
      "--------------------\n",
      "\n",
      "{Betweenness}\n",
      "Calculating modularity for undirected graph\n",
      ": Modularity of such partition for edge_GRAPE_top5.csv is \u001b[1m 0.612 \u001b[0m\n",
      "\n"
     ]
    }
   ],
   "source": [
    "for data in datalist:\n",
    "    modularity_calculation(data)"
   ]
  },
  {
   "cell_type": "code",
   "execution_count": 127,
   "id": "accompanied-annotation",
   "metadata": {},
   "outputs": [],
   "source": [
    "from networkx import edge_betweenness_centrality as betweenness\n",
    "from networkx.algorithms.community.centrality import girvan_newman\n",
    "\n",
    "# criterion for most valuable edge (can be changed)\n",
    "def most_central_edge(G):\n",
    "    centrality = betweenness(G, weight=\"weight\")\n",
    "    # print(centrality)\n",
    "    return max(centrality, key=centrality.get)"
   ]
  },
  {
   "cell_type": "code",
   "execution_count": 129,
   "id": "accepting-bronze",
   "metadata": {},
   "outputs": [],
   "source": [
    "communities = girvan_newman(G, most_valuable_edge=most_central_edge)\n",
    "\n",
    "node_groups = []\n",
    "for com in next(communities):\n",
    "    node_groups.append(list(com))\n",
    "    \n",
    "central_dict = {}\n",
    "for i, value in enumerate(node_groups):\n",
    "    for v in value:\n",
    "        central_dict[v] = i"
   ]
  },
  {
   "cell_type": "code",
   "execution_count": 136,
   "id": "greek-charles",
   "metadata": {},
   "outputs": [
    {
     "name": "stdout",
     "output_type": "stream",
     "text": [
      "Calculating modularity for undirected graph\n"
     ]
    },
    {
     "data": {
      "text/plain": [
       "0.5125170687300865"
      ]
     },
     "execution_count": 136,
     "metadata": {},
     "output_type": "execute_result"
    }
   ],
   "source": []
  },
  {
   "cell_type": "code",
   "execution_count": null,
   "id": "sensitive-heritage",
   "metadata": {},
   "outputs": [],
   "source": []
  }
 ],
 "metadata": {
  "kernelspec": {
   "display_name": "Python 3",
   "language": "python",
   "name": "python3"
  },
  "language_info": {
   "codemirror_mode": {
    "name": "ipython",
    "version": 3
   },
   "file_extension": ".py",
   "mimetype": "text/x-python",
   "name": "python",
   "nbconvert_exporter": "python",
   "pygments_lexer": "ipython3",
   "version": "3.6.9"
  }
 },
 "nbformat": 4,
 "nbformat_minor": 5
}
