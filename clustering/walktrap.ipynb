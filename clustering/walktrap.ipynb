{
 "cells": [
  {
   "cell_type": "markdown",
   "metadata": {},
   "source": [
    "## Walktrap Community Detection"
   ]
  },
  {
   "cell_type": "markdown",
   "metadata": {},
   "source": [
    "This code uses `CDlib - Community Discovery Library`\n",
    "See the [link](https://cdlib.readthedocs.io/en/latest/) to check out documentation"
   ]
  },
  {
   "cell_type": "code",
   "execution_count": 1,
   "metadata": {},
   "outputs": [],
   "source": [
    "import numpy as np\n",
    "import itertools\n",
    "import pandas as pd\n",
    "import matplotlib.pyplot as plt\n",
    "\n",
    "import networkx as nx\n",
    "from cdlib import algorithms\n",
    "from igraph import *\n",
    "\n",
    "from modularity_maximization import partition\n",
    "from modularity_maximization.utils import get_modularity\n",
    "\n",
    "# import data\n",
    "dataset = '../dataset/edge_mean_th95.csv' \n",
    "df = pd.read_csv(dataset, index_col =0, dtype='int64')"
   ]
  },
  {
   "cell_type": "code",
   "execution_count": 2,
   "metadata": {},
   "outputs": [
    {
     "data": {
      "text/html": [
       "<div>\n",
       "<style scoped>\n",
       "    .dataframe tbody tr th:only-of-type {\n",
       "        vertical-align: middle;\n",
       "    }\n",
       "\n",
       "    .dataframe tbody tr th {\n",
       "        vertical-align: top;\n",
       "    }\n",
       "\n",
       "    .dataframe thead th {\n",
       "        text-align: right;\n",
       "    }\n",
       "</style>\n",
       "<table border=\"1\" class=\"dataframe\">\n",
       "  <thead>\n",
       "    <tr style=\"text-align: right;\">\n",
       "      <th></th>\n",
       "      <th>dst</th>\n",
       "      <th>src</th>\n",
       "    </tr>\n",
       "  </thead>\n",
       "  <tbody>\n",
       "    <tr>\n",
       "      <th>0</th>\n",
       "      <td>6</td>\n",
       "      <td>0</td>\n",
       "    </tr>\n",
       "    <tr>\n",
       "      <th>0</th>\n",
       "      <td>94</td>\n",
       "      <td>0</td>\n",
       "    </tr>\n",
       "    <tr>\n",
       "      <th>0</th>\n",
       "      <td>136</td>\n",
       "      <td>0</td>\n",
       "    </tr>\n",
       "    <tr>\n",
       "      <th>1</th>\n",
       "      <td>2</td>\n",
       "      <td>1</td>\n",
       "    </tr>\n",
       "    <tr>\n",
       "      <th>1</th>\n",
       "      <td>59</td>\n",
       "      <td>1</td>\n",
       "    </tr>\n",
       "    <tr>\n",
       "      <th>...</th>\n",
       "      <td>...</td>\n",
       "      <td>...</td>\n",
       "    </tr>\n",
       "    <tr>\n",
       "      <th>137</th>\n",
       "      <td>123</td>\n",
       "      <td>137</td>\n",
       "    </tr>\n",
       "    <tr>\n",
       "      <th>137</th>\n",
       "      <td>127</td>\n",
       "      <td>137</td>\n",
       "    </tr>\n",
       "    <tr>\n",
       "      <th>139</th>\n",
       "      <td>17</td>\n",
       "      <td>139</td>\n",
       "    </tr>\n",
       "    <tr>\n",
       "      <th>139</th>\n",
       "      <td>106</td>\n",
       "      <td>139</td>\n",
       "    </tr>\n",
       "    <tr>\n",
       "      <th>141</th>\n",
       "      <td>6</td>\n",
       "      <td>141</td>\n",
       "    </tr>\n",
       "  </tbody>\n",
       "</table>\n",
       "<p>338 rows × 2 columns</p>\n",
       "</div>"
      ],
      "text/plain": [
       "     dst  src\n",
       "0      6    0\n",
       "0     94    0\n",
       "0    136    0\n",
       "1      2    1\n",
       "1     59    1\n",
       "..   ...  ...\n",
       "137  123  137\n",
       "137  127  137\n",
       "139   17  139\n",
       "139  106  139\n",
       "141    6  141\n",
       "\n",
       "[338 rows x 2 columns]"
      ]
     },
     "execution_count": 2,
     "metadata": {},
     "output_type": "execute_result"
    }
   ],
   "source": [
    "df = df.astype(int)\n",
    "df = df[['dst','src']]\n",
    "df"
   ]
  },
  {
   "cell_type": "code",
   "execution_count": 3,
   "metadata": {},
   "outputs": [
    {
     "name": "stdout",
     "output_type": "stream",
     "text": [
      "338\n",
      "[(6, 0), (94, 0), (136, 0), (2, 1), (59, 1)]\n"
     ]
    }
   ],
   "source": [
    "# define edge_list (u,v)\n",
    "edge_list = list(df.itertuples(index=False, name=None))\n",
    "print(len(edge_list))\n",
    "print(edge_list[:5])"
   ]
  },
  {
   "cell_type": "code",
   "execution_count": 4,
   "metadata": {},
   "outputs": [
    {
     "name": "stdout",
     "output_type": "stream",
     "text": [
      "141\n",
      "[0, 1, 2, 3, 4]\n"
     ]
    }
   ],
   "source": [
    "# define node_list\n",
    "node_list = [x for x in range(max(df['dst']))]\n",
    "print(len(node_list))\n",
    "print(node_list[:5])"
   ]
  },
  {
   "cell_type": "code",
   "execution_count": 5,
   "metadata": {},
   "outputs": [
    {
     "name": "stdout",
     "output_type": "stream",
     "text": [
      "Delete node with no neighborhood: [12, 14, 16, 18, 21, 24, 25, 27, 31, 44, 47, 49, 51, 52, 53, 57, 60, 61, 63, 64, 65, 71, 72, 73, 74, 77, 79, 80, 81, 84, 87, 88, 92, 93, 99, 101, 103, 104, 105, 107, 109, 112, 113, 116, 117, 124, 128, 131, 133, 138, 140] \n",
      "\n",
      "Number of node: 91\n"
     ]
    }
   ],
   "source": [
    "# Create Graph \n",
    "G = nx.Graph()\n",
    "\n",
    "# Add node and edge to graph\n",
    "G.add_nodes_from(node_list)\n",
    "G.add_edges_from(edge_list)\n",
    "\n",
    "# Delete node which does not have neighborhood\n",
    "print('Delete node with no neighborhood: {} \\n'.format(list(nx.isolates(G))))\n",
    "G.remove_nodes_from(list(nx.isolates(G)))\n",
    "print('Number of node:',len(G.nodes))"
   ]
  },
  {
   "cell_type": "markdown",
   "metadata": {},
   "source": [
    "## Walktrap\n",
    "\n",
    "`Walktrap`, developed by Pascal Pons, is an algorithm in graph theory, used to identify communities in large networks via random walks. These random walks are then used to compute distances between nodes. Nodes are then assigned into groups with small intra and larger inter-community distances via bottom-up hierarchical clustering. It should be noted, of course, that this algorithm considers only one community per node, which in some cases can be an incorrect hypothesis"
   ]
  },
  {
   "cell_type": "code",
   "execution_count": 10,
   "metadata": {},
   "outputs": [
    {
     "data": {
      "text/plain": [
       "[[5, 28, 32, 40, 43, 50, 62, 66, 67, 69, 86, 100, 111, 123, 127, 132, 137],\n",
       " [0, 6, 8, 30, 36, 37, 46, 58, 75, 94, 102, 110, 119, 136, 141],\n",
       " [9, 22, 26, 29, 33, 41, 91, 122, 126, 130],\n",
       " [39, 48, 54, 55, 56, 76, 82, 95, 125],\n",
       " [7, 38, 70, 78, 90, 120],\n",
       " [1, 59, 85, 97],\n",
       " [2, 34, 42, 45],\n",
       " [4, 15, 114, 121],\n",
       " [10, 11, 23, 134],\n",
       " [3, 19, 89],\n",
       " [17, 106, 139],\n",
       " [68, 108, 118],\n",
       " [83, 96, 115],\n",
       " [13, 98],\n",
       " [20, 129],\n",
       " [35, 135]]"
      ]
     },
     "execution_count": 10,
     "metadata": {},
     "output_type": "execute_result"
    }
   ],
   "source": [
    "import cdlib\n",
    "from cdlib import algorithms\n",
    "\n",
    "# using networkX Graph\n",
    "walktrap = cdlib.algorithms.walktrap(G)\n",
    "walk_comms=walktrap.communities\n",
    "walk_comms"
   ]
  },
  {
   "cell_type": "code",
   "execution_count": 11,
   "metadata": {},
   "outputs": [],
   "source": [
    "walktrap_dict = {}\n",
    "\n",
    "for i, value in enumerate(walk_comms):\n",
    "    values = list(value)\n",
    "    for v in values:\n",
    "        walktrap_dict[v] = i"
   ]
  },
  {
   "cell_type": "code",
   "execution_count": 12,
   "metadata": {
    "scrolled": true
   },
   "outputs": [
    {
     "data": {
      "text/plain": [
       "{5: 0,\n",
       " 28: 0,\n",
       " 32: 0,\n",
       " 40: 0,\n",
       " 43: 0,\n",
       " 50: 0,\n",
       " 62: 0,\n",
       " 66: 0,\n",
       " 67: 0,\n",
       " 69: 0,\n",
       " 86: 0,\n",
       " 100: 0,\n",
       " 111: 0,\n",
       " 123: 0,\n",
       " 127: 0,\n",
       " 132: 0,\n",
       " 137: 0,\n",
       " 0: 1,\n",
       " 6: 1,\n",
       " 8: 1,\n",
       " 30: 1,\n",
       " 36: 1,\n",
       " 37: 1,\n",
       " 46: 1,\n",
       " 58: 1,\n",
       " 75: 1,\n",
       " 94: 1,\n",
       " 102: 1,\n",
       " 110: 1,\n",
       " 119: 1,\n",
       " 136: 1,\n",
       " 141: 1,\n",
       " 9: 2,\n",
       " 22: 2,\n",
       " 26: 2,\n",
       " 29: 2,\n",
       " 33: 2,\n",
       " 41: 2,\n",
       " 91: 2,\n",
       " 122: 2,\n",
       " 126: 2,\n",
       " 130: 2,\n",
       " 39: 3,\n",
       " 48: 3,\n",
       " 54: 3,\n",
       " 55: 3,\n",
       " 56: 3,\n",
       " 76: 3,\n",
       " 82: 3,\n",
       " 95: 3,\n",
       " 125: 3,\n",
       " 7: 4,\n",
       " 38: 4,\n",
       " 70: 4,\n",
       " 78: 4,\n",
       " 90: 4,\n",
       " 120: 4,\n",
       " 1: 5,\n",
       " 59: 5,\n",
       " 85: 5,\n",
       " 97: 5,\n",
       " 2: 6,\n",
       " 34: 6,\n",
       " 42: 6,\n",
       " 45: 6,\n",
       " 4: 7,\n",
       " 15: 7,\n",
       " 114: 7,\n",
       " 121: 7,\n",
       " 10: 8,\n",
       " 11: 8,\n",
       " 23: 8,\n",
       " 134: 8,\n",
       " 3: 9,\n",
       " 19: 9,\n",
       " 89: 9,\n",
       " 17: 10,\n",
       " 106: 10,\n",
       " 139: 10,\n",
       " 68: 11,\n",
       " 108: 11,\n",
       " 118: 11,\n",
       " 83: 12,\n",
       " 96: 12,\n",
       " 115: 12,\n",
       " 13: 13,\n",
       " 98: 13,\n",
       " 20: 14,\n",
       " 129: 14,\n",
       " 35: 15,\n",
       " 135: 15}"
      ]
     },
     "execution_count": 12,
     "metadata": {},
     "output_type": "execute_result"
    }
   ],
   "source": [
    "walktrap_dict"
   ]
  },
  {
   "cell_type": "code",
   "execution_count": 13,
   "metadata": {},
   "outputs": [
    {
     "name": "stdout",
     "output_type": "stream",
     "text": [
      "Community 0\n",
      "0\n",
      "5, 28, 32, 40, 43, 50, 62, 66, 67, 69, 86, 100, 111, 123, 127, 132, 137\n",
      "Community 1\n",
      "1\n",
      "0, 6, 8, 30, 36, 37, 46, 58, 75, 94, 102, 110, 119, 136, 141\n",
      "Community 2\n",
      "2\n",
      "9, 22, 26, 29, 33, 41, 91, 122, 126, 130\n",
      "Community 3\n",
      "3\n",
      "39, 48, 54, 55, 56, 76, 82, 95, 125\n",
      "Community 4\n",
      "4\n",
      "7, 38, 70, 78, 90, 120\n",
      "Community 5\n",
      "5\n",
      "1, 59, 85, 97\n",
      "Community 6\n",
      "6\n",
      "2, 34, 42, 45\n",
      "Community 7\n",
      "7\n",
      "4, 15, 114, 121\n",
      "Community 8\n",
      "8\n",
      "10, 11, 23, 134\n",
      "Community 9\n",
      "9\n",
      "3, 19, 89\n",
      "Community 10\n",
      "10\n",
      "17, 106, 139\n",
      "Community 11\n",
      "11\n",
      "68, 108, 118\n",
      "Community 12\n",
      "12\n",
      "83, 96, 115\n",
      "Community 13\n",
      "13\n",
      "13, 98\n",
      "Community 14\n",
      "14\n",
      "20, 129\n",
      "Community 15\n",
      "15\n",
      "35, 135\n"
     ]
    }
   ],
   "source": [
    "for comm in set(walktrap_dict.values()):\n",
    "    print(\"Community %d\"%comm)\n",
    "    print(comm)\n",
    "    print(', '.join([str(node) for node in walktrap_dict if walktrap_dict[node] == comm]))"
   ]
  },
  {
   "cell_type": "code",
   "execution_count": 14,
   "metadata": {},
   "outputs": [
    {
     "name": "stdout",
     "output_type": "stream",
     "text": [
      "Calculating modularity for undirected graph\n",
      "Modularity of such partition for karate is 0.621\n"
     ]
    }
   ],
   "source": [
    "print('Modularity of such partition for karate is %.3f' % get_modularity(G, walktrap_dict))"
   ]
  },
  {
   "cell_type": "code",
   "execution_count": 16,
   "metadata": {},
   "outputs": [
    {
     "data": {
      "image/png": "[encoded data removed]",
      "text/plain": [
       "<Figure size 720x720 with 1 Axes>"
      ]
     },
     "metadata": {},
     "output_type": "display_data"
    },
    {
     "data": {
      "text/plain": [
       "<Figure size 432x288 with 0 Axes>"
      ]
     },
     "metadata": {},
     "output_type": "display_data"
    }
   ],
   "source": [
    "plt.figure(figsize=(10,10))\n",
    "pos = nx.spring_layout(G, scale=4)\n",
    "nx.draw(G, pos, node_color=range(len(G.nodes)), node_size=1000, with_labels=True, cmap=plt.cm.Blues)\n",
    "plt.title('Community Detection with walktrap')\n",
    "plt.show()\n",
    "plt.savefig('walktrap.jpg')"
   ]
  },
  {
   "cell_type": "code",
   "execution_count": 17,
   "metadata": {},
   "outputs": [],
   "source": [
    "# # using igraph background\n",
    "# import cdlib\n",
    "# from cdlib import algorithms\n",
    "# import igraph\n",
    "\n",
    "# graphStyle = {'vertex_size': 12}\n",
    "\n",
    "\n",
    "# g = igraph.Graph(vertex_attrs={\"label\": node_list}, edges=edge_list, directed=True)\n",
    "# g.write_svg(\"./plot_igraph.svg\", width=600, height=600, **graphStyle)"
   ]
  },
  {
   "cell_type": "markdown",
   "metadata": {},
   "source": [
    "# Performance Metric"
   ]
  },
  {
   "cell_type": "code",
   "execution_count": 18,
   "metadata": {},
   "outputs": [],
   "source": [
    "edge_mean_th95 = '../dataset/edge_mean_th95.csv' \n",
    "edge_mean_top5 = '../dataset/edge_mean_top5.csv'\n",
    "edge_mice_th95 = '../dataset/edge_mice_th95.csv'\n",
    "edge_mice_top5 = '../dataset/edge_mice_top5.csv'\n",
    "edge_grape_th90 = '../dataset/edge_GRAPE_th90.csv'\n",
    "edge_grape_top5 = '../dataset/edge_GRAPE_top5.csv'\n",
    "edge_original_th90 = '../dataset/edge_Original_th90.csv'\n",
    "edge_original_top5 = '../dataset/edge_Original_top5.csv'\n",
    "\n",
    "incomplete = '../dataset/incomplete.csv'"
   ]
  },
  {
   "cell_type": "code",
   "execution_count": 19,
   "metadata": {},
   "outputs": [],
   "source": [
    "datalist = [edge_original_th90, edge_original_top5, edge_mean_th95, edge_mean_top5, edge_mice_th95, edge_mice_top5, edge_grape_th90, edge_grape_top5]"
   ]
  },
  {
   "cell_type": "code",
   "execution_count": 20,
   "metadata": {},
   "outputs": [],
   "source": [
    "def modularity_calculation(dataset):\n",
    "    print('='*50)\n",
    "    print(f'[[Dataset: {dataset.split(\"/\")[-1]}]]')\n",
    "    # import data\n",
    "    df = pd.read_csv(dataset, index_col =0, dtype='int64')\n",
    "\n",
    "    # define edge_list (u,v)\n",
    "    edge_list = list(df.itertuples(index=False, name=None))\n",
    "\n",
    "    # define node_list\n",
    "    node_list = [x for x in range(max(df['dst']))]\n",
    "\n",
    "    # Create Graph \n",
    "    G = nx.Graph()\n",
    "\n",
    "    # Add node and edge to graph\n",
    "    G.add_nodes_from(node_list)\n",
    "    G.add_edges_from(edge_list)\n",
    "\n",
    "#     # Delete node which does not have neighborhood\n",
    "#     print('Delete node with no neighborhood: {} \\n'.format(list(nx.isolates(G))))\n",
    "#     G.remove_nodes_from(list(nx.isolates(G)))\n",
    "#     print('Number of node:',len(G.nodes))\n",
    "    \n",
    "    print('{Partition > Eigenvector based clustering}')\n",
    "    comm_dict = partition(G)\n",
    "\n",
    "#     for comm in set(comm_dict.values()):\n",
    "#         print(\"Community %d\"%comm)\n",
    "#         print(', '.join([str(node) for node in comm_dict if comm_dict[node] == comm]))\n",
    "        \n",
    "    print(f': Modularity of such partition for {dataset.split(\"/\")[-1]} is \\033[1m %.3f \\033[0m' % get_modularity(G, comm_dict))\n",
    "    print()\n",
    "    print('-'*20)\n",
    "    print()\n",
    "    print('{Modularity Maximization}')\n",
    "    \n",
    "    greedy_module_comms = nx.algorithms.community.greedy_modularity_communities(G)\n",
    "    greedy_dict = {}\n",
    "\n",
    "    for i, value in enumerate(greedy_module_comms):\n",
    "        values = list(value)\n",
    "        for v in values:\n",
    "            greedy_dict[v] = i\n",
    "\n",
    "#     for comm in set(greedy_dict.values()):\n",
    "#         print(\"Community %d\"%comm)\n",
    "#         print(comm)\n",
    "#         print(', '.join([str(node) for node in greedy_dict if greedy_dict[node] == comm]))\n",
    "    \n",
    "    print(f': Modularity of such partition for {dataset.split(\"/\")[-1]} is \\033[1m %.3f \\033[0m' % get_modularity(G, greedy_dict))\n",
    "    print()\n",
    "    print('-'*20)\n",
    "    print()\n",
    "    print('{Betweenness}')\n",
    "    \n",
    "    communities = girvan_newman(G, most_valuable_edge=most_central_edge)\n",
    "\n",
    "    node_groups = []\n",
    "    for com in next(communities):\n",
    "        node_groups.append(list(com))\n",
    "\n",
    "    central_dict = {}\n",
    "    for i, value in enumerate(node_groups):\n",
    "        for v in value:\n",
    "            central_dict[v] = i\n",
    "    \n",
    "    \n",
    "    print(f': Modularity of such partition for {dataset.split(\"/\")[-1]} is \\033[1m %.3f \\033[0m' % get_modularity(G, central_dict))\n",
    "    print()\n",
    "    print('-'*20)\n",
    "    print()\n",
    "    print('{WalkTrap}')\n",
    "        \n",
    "    walktrap = cdlib.algorithms.walktrap(G)\n",
    "    walk_comms=walktrap.communities\n",
    "\n",
    "    walktrap_dict = {}\n",
    "    for i, value in enumerate(walk_comms):\n",
    "        values = list(value)\n",
    "        for v in values:\n",
    "            walktrap_dict[v] = i\n",
    "        \n",
    "    print(f': Modularity of such partition for {dataset.split(\"/\")[-1]} is \\033[1m %.3f \\033[0m' % get_modularity(G, walktrap_dict))\n",
    "    print()"
   ]
  },
  {
   "cell_type": "code",
   "execution_count": null,
   "metadata": {},
   "outputs": [
    {
     "name": "stdout",
     "output_type": "stream",
     "text": [
      "==================================================\n",
      "[[Dataset: edge_Original_th90.csv]]\n",
      "{Partition > Eigenvector based clustering}\n"
     ]
    }
   ],
   "source": [
    "for data in datalist:\n",
    "    modularity_calculation(data)"
   ]
  },
  {
   "cell_type": "code",
   "execution_count": 127,
   "metadata": {},
   "outputs": [],
   "source": [
    "from networkx import edge_betweenness_centrality as betweenness\n",
    "from networkx.algorithms.community.centrality import girvan_newman\n",
    "\n",
    "# criterion for most valuable edge (can be changed)\n",
    "def most_central_edge(G):\n",
    "    centrality = betweenness(G, weight=\"weight\")\n",
    "    # print(centrality)\n",
    "    return max(centrality, key=centrality.get)"
   ]
  },
  {
   "cell_type": "code",
   "execution_count": 129,
   "metadata": {},
   "outputs": [],
   "source": [
    "communities = girvan_newman(G, most_valuable_edge=most_central_edge)\n",
    "\n",
    "node_groups = []\n",
    "for com in next(communities):\n",
    "    node_groups.append(list(com))\n",
    "    \n",
    "central_dict = {}\n",
    "for i, value in enumerate(node_groups):\n",
    "    for v in value:\n",
    "        central_dict[v] = i"
   ]
  },
  {
   "cell_type": "code",
   "execution_count": null,
   "metadata": {},
   "outputs": [],
   "source": []
  }
 ],
 "metadata": {
  "kernelspec": {
   "display_name": "Python 3",
   "language": "python",
   "name": "python3"
  },
  "language_info": {
   "codemirror_mode": {
    "name": "ipython",
    "version": 3
   },
   "file_extension": ".py",
   "mimetype": "text/x-python",
   "name": "python",
   "nbconvert_exporter": "python",
   "pygments_lexer": "ipython3",
   "version": "3.6.9"
  }
 },
 "nbformat": 4,
 "nbformat_minor": 4
}
