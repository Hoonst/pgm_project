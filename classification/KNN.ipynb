{
 "cells": [
  {
   "cell_type": "code",
   "execution_count": 34,
   "id": "false-absolute",
   "metadata": {},
   "outputs": [],
   "source": [
    "import pandas as pd\n",
    "import numpy as np"
   ]
  },
  {
   "cell_type": "code",
   "execution_count": 35,
   "id": "smaller-blair",
   "metadata": {},
   "outputs": [],
   "source": [
    "from sklearn.model_selection import train_test_split\n",
    "from sklearn.neighbors import KNeighborsClassifier"
   ]
  },
  {
   "cell_type": "code",
   "execution_count": 36,
   "id": "unnecessary-waste",
   "metadata": {},
   "outputs": [],
   "source": [
    "from sklearn.metrics import accuracy_score, confusion_matrix # model 평가"
   ]
  },
  {
   "cell_type": "code",
   "execution_count": 37,
   "id": "worst-correspondence",
   "metadata": {},
   "outputs": [],
   "source": [
    "from sklearn.model_selection import LeaveOneOut, cross_val_score, KFold"
   ]
  },
  {
   "cell_type": "code",
   "execution_count": 38,
   "id": "undefined-flavor",
   "metadata": {},
   "outputs": [
    {
     "data": {
      "text/plain": [
       "0      0\n",
       "1      1\n",
       "2      1\n",
       "3      0\n",
       "4      1\n",
       "      ..\n",
       "137    0\n",
       "138    1\n",
       "139    0\n",
       "140    1\n",
       "141    0\n",
       "Name: label, Length: 142, dtype: int64"
      ]
     },
     "execution_count": 38,
     "metadata": {},
     "output_type": "execute_result"
    }
   ],
   "source": [
    "y = pd.read_csv('../dataset/label.csv')\n",
    "y = y['label']\n",
    "y"
   ]
  },
  {
   "cell_type": "code",
   "execution_count": 39,
   "id": "polyphonic-rochester",
   "metadata": {},
   "outputs": [],
   "source": [
    "orginal_df = pd.read_csv('../dataset/oasis_longitudinal.csv')\n",
    "\n",
    "# imputation data\n",
    "GRAPE_imputate = pd.read_csv('../dataset/GRAPE_imputate.csv').iloc[:,1:]\n",
    "mice_imputate = pd.read_csv('../dataset/mice_imputate.csv').iloc[:,1:]\n",
    "mean_imputate = pd.read_csv('../dataset/mean_imputate.csv').iloc[:,1:]\n"
   ]
  },
  {
   "cell_type": "markdown",
   "id": "pacific-marking",
   "metadata": {},
   "source": [
    "# GRAPE"
   ]
  },
  {
   "cell_type": "code",
   "execution_count": 40,
   "id": "surrounded-adventure",
   "metadata": {},
   "outputs": [
    {
     "name": "stdout",
     "output_type": "stream",
     "text": [
      "grape_train_X Shape : (99, 9)\n",
      "grape_test_X Shape : (43, 9)\n",
      "train_y Shape : (99,)\n",
      "test_y Shape : (43,)\n"
     ]
    }
   ],
   "source": [
    "# train test split\n",
    "grape_train_X, grape_test_X, train_y, test_y = train_test_split(GRAPE_imputate, y, stratify=y, test_size = 0.3, random_state= 123)\n",
    "\n",
    "print(f'grape_train_X Shape : {grape_train_X.shape}')\n",
    "print(f'grape_test_X Shape : {grape_test_X.shape}')\n",
    "print(f'train_y Shape : {train_y.shape}')\n",
    "print(f'test_y Shape : {test_y.shape}')"
   ]
  },
  {
   "cell_type": "code",
   "execution_count": 41,
   "id": "answering-blank",
   "metadata": {},
   "outputs": [
    {
     "data": {
      "text/plain": [
       "KNeighborsClassifier(n_neighbors=3)"
      ]
     },
     "execution_count": 41,
     "metadata": {},
     "output_type": "execute_result"
    }
   ],
   "source": [
    "# 모델 학습\n",
    "model_grape = KNeighborsClassifier(n_neighbors = 3)\n",
    "model_grape.fit(grape_train_X, train_y)"
   ]
  },
  {
   "cell_type": "code",
   "execution_count": 42,
   "id": "returning-poverty",
   "metadata": {
    "scrolled": true
   },
   "outputs": [
    {
     "name": "stdout",
     "output_type": "stream",
     "text": [
      "훈련 세트 정확도: 0.85859\n",
      "테스트 세트 정확도: 0.74419\n"
     ]
    }
   ],
   "source": [
    "# 평가\n",
    "print(\"훈련 세트 정확도: {:.5f}\".format(model_grape.score(grape_train_X, train_y )) )\n",
    "print(\"테스트 세트 정확도: {:.5f}\".format(model_grape.score(grape_test_X, test_y)) )"
   ]
  },
  {
   "cell_type": "markdown",
   "id": "blocked-drink",
   "metadata": {},
   "source": [
    "# MICE"
   ]
  },
  {
   "cell_type": "code",
   "execution_count": 43,
   "id": "overhead-barbados",
   "metadata": {},
   "outputs": [
    {
     "name": "stdout",
     "output_type": "stream",
     "text": [
      "mice_train_X Shape : (99, 9)\n",
      "mice_test_X Shape : (43, 9)\n",
      "train_y Shape : (99,)\n",
      "test_y Shape : (43,)\n"
     ]
    }
   ],
   "source": [
    "# train test split\n",
    "mice_train_X, mice_test_X, train_y, test_y = train_test_split(mice_imputate, y, stratify=y, test_size = 0.3, random_state= 123)\n",
    "\n",
    "print(f'mice_train_X Shape : {mice_train_X.shape}')\n",
    "print(f'mice_test_X Shape : {mice_test_X.shape}')\n",
    "print(f'train_y Shape : {train_y.shape}')\n",
    "print(f'test_y Shape : {test_y.shape}')"
   ]
  },
  {
   "cell_type": "code",
   "execution_count": 44,
   "id": "early-demand",
   "metadata": {},
   "outputs": [
    {
     "data": {
      "text/plain": [
       "KNeighborsClassifier(n_neighbors=3)"
      ]
     },
     "execution_count": 44,
     "metadata": {},
     "output_type": "execute_result"
    }
   ],
   "source": [
    "# 모델 학습\n",
    "model_mice = KNeighborsClassifier(n_neighbors = 3)\n",
    "model_mice.fit(mice_train_X, train_y)"
   ]
  },
  {
   "cell_type": "code",
   "execution_count": 45,
   "id": "thermal-struggle",
   "metadata": {
    "scrolled": true
   },
   "outputs": [
    {
     "name": "stdout",
     "output_type": "stream",
     "text": [
      "훈련 세트 정확도: 0.85859\n",
      "테스트 세트 정확도: 0.81395\n"
     ]
    }
   ],
   "source": [
    "# 평가\n",
    "print(\"훈련 세트 정확도: {:.5f}\".format(model_mice.score(mice_train_X, train_y )) )\n",
    "print(\"테스트 세트 정확도: {:.5f}\".format(model_mice.score(mice_test_X, test_y)) )"
   ]
  },
  {
   "cell_type": "markdown",
   "id": "compound-quebec",
   "metadata": {},
   "source": [
    "# MEAN"
   ]
  },
  {
   "cell_type": "code",
   "execution_count": 46,
   "id": "crude-assistant",
   "metadata": {},
   "outputs": [
    {
     "name": "stdout",
     "output_type": "stream",
     "text": [
      "mean_train_X Shape : (99, 9)\n",
      "mean_test_X Shape : (43, 9)\n",
      "train_y Shape : (99,)\n",
      "test_y Shape : (43,)\n"
     ]
    }
   ],
   "source": [
    "# train test split\n",
    "mean_train_X, mean_test_X, train_y, test_y = train_test_split(mean_imputate, y, stratify=y, test_size = 0.3, random_state= 123)\n",
    "\n",
    "print(f'mean_train_X Shape : {mean_train_X.shape}')\n",
    "print(f'mean_test_X Shape : {mean_test_X.shape}')\n",
    "print(f'train_y Shape : {train_y.shape}')\n",
    "print(f'test_y Shape : {test_y.shape}')"
   ]
  },
  {
   "cell_type": "code",
   "execution_count": 47,
   "id": "warming-seven",
   "metadata": {},
   "outputs": [
    {
     "data": {
      "text/plain": [
       "KNeighborsClassifier(n_neighbors=3)"
      ]
     },
     "execution_count": 47,
     "metadata": {},
     "output_type": "execute_result"
    }
   ],
   "source": [
    "# 모델 학습\n",
    "model_mean = KNeighborsClassifier(n_neighbors = 3)\n",
    "model_mean.fit(mean_train_X, train_y)"
   ]
  },
  {
   "cell_type": "code",
   "execution_count": 48,
   "id": "encouraging-right",
   "metadata": {
    "scrolled": true
   },
   "outputs": [
    {
     "name": "stdout",
     "output_type": "stream",
     "text": [
      "훈련 세트 정확도: 0.86869\n",
      "테스트 세트 정확도: 0.83721\n"
     ]
    }
   ],
   "source": [
    "# 평가\n",
    "print(\"훈련 세트 정확도: {:.5f}\".format(model_mean.score(mean_train_X, train_y )) )\n",
    "print(\"테스트 세트 정확도: {:.5f}\".format(model_mean.score(mean_test_X, test_y)) )"
   ]
  },
  {
   "cell_type": "markdown",
   "id": "distant-crossing",
   "metadata": {},
   "source": [
    "# Using LeaveOneOut CV"
   ]
  },
  {
   "cell_type": "code",
   "execution_count": 59,
   "id": "expected-specific",
   "metadata": {},
   "outputs": [],
   "source": [
    "# create object\n",
    "model_grape = KNeighborsClassifier(n_neighbors = 3)\n",
    "model_mice = KNeighborsClassifier(n_neighbors = 3)\n",
    "model_mean = KNeighborsClassifier(n_neighbors = 3)\n",
    "\n",
    "# LeaveOneOut model\n",
    "loo = LeaveOneOut() \n",
    "\n",
    "# test validation\n",
    "# LOOCV\n",
    "grape_loo_score = cross_val_score(model_grape, GRAPE_imputate, y, cv=loo)\n",
    "mice_loo_score = cross_val_score(model_mice, mice_imputate, y, cv=loo) \n",
    "mean_loo_score = cross_val_score(model_mean, mean_imputate, y, cv=loo) "
   ]
  },
  {
   "cell_type": "code",
   "execution_count": 60,
   "id": "separate-finder",
   "metadata": {
    "scrolled": true
   },
   "outputs": [
    {
     "name": "stdout",
     "output_type": "stream",
     "text": [
      "grape score_loocv \n",
      "0.78873\n",
      "mice score_loocv \n",
      "0.76056\n",
      "mean score_loocv \n",
      "0.76761\n"
     ]
    }
   ],
   "source": [
    "# cv result\n",
    "print('grape score_loocv \\n{:.5f}'.format(grape_loo_score.mean()))\n",
    "print('mice score_loocv \\n{:.5f}'.format(mice_loo_score.mean()))\n",
    "print('mean score_loocv \\n{:.5f}'.format(mean_loo_score.mean()))"
   ]
  },
  {
   "cell_type": "code",
   "execution_count": 61,
   "id": "perfect-alliance",
   "metadata": {
    "scrolled": true
   },
   "outputs": [
    {
     "data": {
      "text/plain": [
       "array([1., 1., 1., 1., 1., 1., 1., 1., 1., 1., 1., 1., 0., 1., 1., 0., 1.,\n",
       "       1., 0., 1., 1., 1., 0., 1., 0., 1., 1., 1., 1., 1., 1., 0., 1., 1.,\n",
       "       1., 1., 1., 1., 1., 0., 0., 1., 1., 0., 1., 1., 1., 1., 1., 0., 1.,\n",
       "       1., 0., 1., 1., 1., 1., 1., 0., 1., 1., 1., 1., 0., 1., 0., 0., 1.,\n",
       "       1., 1., 0., 1., 0., 1., 1., 1., 1., 1., 1., 1., 1., 1., 1., 1., 1.,\n",
       "       1., 0., 1., 1., 0., 1., 1., 1., 0., 1., 1., 0., 0., 1., 1., 1., 1.,\n",
       "       1., 1., 1., 1., 1., 1., 1., 1., 0., 1., 1., 1., 1., 0., 1., 0., 1.,\n",
       "       1., 1., 1., 1., 1., 1., 1., 0., 1., 1., 1., 1., 1., 1., 0., 1., 0.,\n",
       "       0., 1., 0., 1., 1., 1.])"
      ]
     },
     "execution_count": 61,
     "metadata": {},
     "output_type": "execute_result"
    }
   ],
   "source": [
    "grape_loo_score"
   ]
  },
  {
   "cell_type": "code",
   "execution_count": 62,
   "id": "narrow-celtic",
   "metadata": {},
   "outputs": [
    {
     "data": {
      "text/plain": [
       "array([0., 1., 1., 1., 1., 1., 1., 1., 1., 1., 1., 1., 1., 0., 0., 0., 1.,\n",
       "       1., 0., 1., 1., 1., 0., 1., 1., 1., 1., 1., 1., 1., 1., 0., 1., 1.,\n",
       "       1., 1., 0., 1., 1., 1., 0., 1., 1., 0., 1., 1., 1., 1., 1., 0., 1.,\n",
       "       0., 0., 1., 0., 1., 0., 1., 1., 1., 1., 1., 1., 0., 0., 0., 0., 1.,\n",
       "       1., 1., 1., 1., 1., 1., 1., 1., 1., 1., 1., 1., 1., 1., 1., 0., 1.,\n",
       "       1., 0., 0., 1., 0., 1., 1., 1., 1., 0., 1., 0., 0., 0., 1., 1., 1.,\n",
       "       1., 1., 1., 1., 1., 1., 0., 1., 1., 1., 1., 1., 1., 0., 1., 0., 0.,\n",
       "       1., 1., 1., 1., 1., 1., 1., 1., 1., 1., 1., 1., 1., 1., 1., 1., 1.,\n",
       "       1., 1., 0., 0., 0., 1.])"
      ]
     },
     "execution_count": 62,
     "metadata": {},
     "output_type": "execute_result"
    }
   ],
   "source": [
    "mice_loo_score"
   ]
  },
  {
   "cell_type": "code",
   "execution_count": 63,
   "id": "relative-confirmation",
   "metadata": {
    "scrolled": false
   },
   "outputs": [
    {
     "data": {
      "text/plain": [
       "array([1., 1., 1., 1., 1., 1., 1., 1., 1., 1., 1., 1., 0., 0., 1., 1., 1.,\n",
       "       1., 1., 0., 1., 1., 0., 1., 0., 1., 1., 1., 1., 1., 1., 0., 1., 1.,\n",
       "       1., 1., 1., 0., 1., 0., 0., 1., 1., 0., 0., 1., 0., 1., 1., 1., 1.,\n",
       "       1., 0., 1., 1., 1., 1., 1., 1., 1., 0., 1., 1., 1., 0., 1., 0., 1.,\n",
       "       0., 1., 1., 1., 0., 1., 1., 1., 0., 1., 1., 1., 1., 1., 1., 0., 1.,\n",
       "       1., 0., 1., 0., 0., 1., 1., 1., 1., 1., 1., 0., 0., 1., 1., 1., 1.,\n",
       "       0., 1., 1., 1., 1., 1., 0., 1., 1., 1., 1., 1., 1., 0., 1., 0., 1.,\n",
       "       1., 0., 1., 1., 1., 1., 1., 1., 1., 0., 1., 1., 1., 0., 1., 1., 1.,\n",
       "       1., 1., 0., 1., 1., 1.])"
      ]
     },
     "execution_count": 63,
     "metadata": {},
     "output_type": "execute_result"
    }
   ],
   "source": [
    "mean_loo_score"
   ]
  },
  {
   "cell_type": "code",
   "execution_count": null,
   "id": "decent-cooling",
   "metadata": {},
   "outputs": [],
   "source": []
  }
 ],
 "metadata": {
  "kernelspec": {
   "display_name": "Python 3",
   "language": "python",
   "name": "python3"
  },
  "language_info": {
   "codemirror_mode": {
    "name": "ipython",
    "version": 3
   },
   "file_extension": ".py",
   "mimetype": "text/x-python",
   "name": "python",
   "nbconvert_exporter": "python",
   "pygments_lexer": "ipython3",
   "version": "3.6.9"
  }
 },
 "nbformat": 4,
 "nbformat_minor": 5
}
