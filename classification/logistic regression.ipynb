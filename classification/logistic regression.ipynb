{
 "cells": [
  {
   "cell_type": "code",
   "execution_count": 9,
   "id": "disturbed-jacob",
   "metadata": {},
   "outputs": [],
   "source": [
    "import pandas as pd\n",
    "import numpy as np"
   ]
  },
  {
   "cell_type": "code",
   "execution_count": 10,
   "id": "final-plaza",
   "metadata": {},
   "outputs": [],
   "source": [
    "from sklearn.model_selection import train_test_split\n",
    "from sklearn.linear_model import LogisticRegression"
   ]
  },
  {
   "cell_type": "code",
   "execution_count": 11,
   "id": "greatest-bubble",
   "metadata": {},
   "outputs": [],
   "source": [
    "from sklearn.metrics import accuracy_score, confusion_matrix # model 평가"
   ]
  },
  {
   "cell_type": "code",
   "execution_count": 28,
   "id": "phantom-captain",
   "metadata": {},
   "outputs": [],
   "source": [
    "from sklearn.model_selection import LeaveOneOut, cross_val_score, KFold"
   ]
  },
  {
   "cell_type": "code",
   "execution_count": 12,
   "id": "stunning-clone",
   "metadata": {},
   "outputs": [
    {
     "data": {
      "text/plain": [
       "0      0\n",
       "1      1\n",
       "2      1\n",
       "3      0\n",
       "4      1\n",
       "      ..\n",
       "137    0\n",
       "138    1\n",
       "139    0\n",
       "140    1\n",
       "141    0\n",
       "Name: label, Length: 142, dtype: int64"
      ]
     },
     "execution_count": 12,
     "metadata": {},
     "output_type": "execute_result"
    }
   ],
   "source": [
    "y = pd.read_csv('../dataset/label.csv')\n",
    "y = y['label']\n",
    "y"
   ]
  },
  {
   "cell_type": "code",
   "execution_count": 13,
   "id": "ceramic-blair",
   "metadata": {},
   "outputs": [],
   "source": [
    "orginal_df = pd.read_csv('../dataset/oasis_longitudinal.csv')\n",
    "\n",
    "# imputation data\n",
    "GRAPE_imputate = pd.read_csv('../dataset/GRAPE_imputate.csv').iloc[:,1:]\n",
    "mice_imputate = pd.read_csv('../dataset/mice_imputate.csv').iloc[:,1:]\n",
    "mean_imputate = pd.read_csv('../dataset/mean_imputate.csv').iloc[:,1:]\n"
   ]
  },
  {
   "cell_type": "markdown",
   "id": "sunrise-mount",
   "metadata": {},
   "source": [
    "# GRAPE"
   ]
  },
  {
   "cell_type": "code",
   "execution_count": 14,
   "id": "anonymous-decade",
   "metadata": {},
   "outputs": [
    {
     "name": "stdout",
     "output_type": "stream",
     "text": [
      "grape_train_X Shape : (99, 9)\n",
      "grape_test_X Shape : (43, 9)\n",
      "train_y Shape : (99,)\n",
      "test_y Shape : (43,)\n"
     ]
    }
   ],
   "source": [
    "# train test split\n",
    "grape_train_X, grape_test_X, train_y, test_y = train_test_split(GRAPE_imputate, y, stratify=y, test_size = 0.3, random_state= 123)\n",
    "\n",
    "print(f'grape_train_X Shape : {grape_train_X.shape}')\n",
    "print(f'grape_test_X Shape : {grape_test_X.shape}')\n",
    "print(f'train_y Shape : {train_y.shape}')\n",
    "print(f'test_y Shape : {test_y.shape}')"
   ]
  },
  {
   "cell_type": "code",
   "execution_count": 15,
   "id": "everyday-blocking",
   "metadata": {},
   "outputs": [
    {
     "data": {
      "text/plain": [
       "LogisticRegression(random_state=0)"
      ]
     },
     "execution_count": 15,
     "metadata": {},
     "output_type": "execute_result"
    }
   ],
   "source": [
    "# 모델 학습\n",
    "model_grape = LogisticRegression(random_state=0)\n",
    "model_grape.fit(grape_train_X, train_y)"
   ]
  },
  {
   "cell_type": "code",
   "execution_count": 27,
   "id": "champion-italic",
   "metadata": {
    "scrolled": true
   },
   "outputs": [
    {
     "name": "stdout",
     "output_type": "stream",
     "text": [
      "훈련 세트 정확도: 0.83838\n",
      "테스트 세트 정확도: 0.83721\n"
     ]
    }
   ],
   "source": [
    "# 평가\n",
    "print(\"훈련 세트 정확도: {:.5f}\".format(model_grape.score(grape_train_X, train_y )) )\n",
    "print(\"테스트 세트 정확도: {:.5f}\".format(model_grape.score(grape_test_X, test_y)) )"
   ]
  },
  {
   "cell_type": "markdown",
   "id": "equal-dependence",
   "metadata": {},
   "source": [
    "# MICE"
   ]
  },
  {
   "cell_type": "code",
   "execution_count": 20,
   "id": "comprehensive-sensitivity",
   "metadata": {},
   "outputs": [
    {
     "name": "stdout",
     "output_type": "stream",
     "text": [
      "mice_train_X Shape : (99, 9)\n",
      "mice_test_X Shape : (43, 9)\n",
      "train_y Shape : (99,)\n",
      "test_y Shape : (43,)\n"
     ]
    }
   ],
   "source": [
    "# train test split\n",
    "mice_train_X, mice_test_X, train_y, test_y = train_test_split(mice_imputate, y, stratify=y, test_size = 0.3, random_state= 123)\n",
    "\n",
    "print(f'mice_train_X Shape : {mice_train_X.shape}')\n",
    "print(f'mice_test_X Shape : {mice_test_X.shape}')\n",
    "print(f'train_y Shape : {train_y.shape}')\n",
    "print(f'test_y Shape : {test_y.shape}')"
   ]
  },
  {
   "cell_type": "code",
   "execution_count": 21,
   "id": "express-coaching",
   "metadata": {},
   "outputs": [
    {
     "data": {
      "text/plain": [
       "LogisticRegression(random_state=0)"
      ]
     },
     "execution_count": 21,
     "metadata": {},
     "output_type": "execute_result"
    }
   ],
   "source": [
    "# 모델 학습\n",
    "model_mice = LogisticRegression(random_state=0)\n",
    "model_mice.fit(mice_train_X, train_y)"
   ]
  },
  {
   "cell_type": "code",
   "execution_count": 22,
   "id": "undefined-hebrew",
   "metadata": {
    "scrolled": true
   },
   "outputs": [
    {
     "name": "stdout",
     "output_type": "stream",
     "text": [
      "훈련 세트 정확도: 0.859\n",
      "테스트 세트 정확도: 0.767\n"
     ]
    }
   ],
   "source": [
    "# 평가\n",
    "print(\"훈련 세트 정확도: {:.5f}\".format(model_mice.score(mice_train_X, train_y )) )\n",
    "print(\"테스트 세트 정확도: {:.5f}\".format(model_mice.score(mice_test_X, test_y)) )"
   ]
  },
  {
   "cell_type": "markdown",
   "id": "possible-photography",
   "metadata": {},
   "source": [
    "# MEAN"
   ]
  },
  {
   "cell_type": "code",
   "execution_count": 23,
   "id": "surrounded-drunk",
   "metadata": {},
   "outputs": [
    {
     "name": "stdout",
     "output_type": "stream",
     "text": [
      "mean_train_X Shape : (99, 9)\n",
      "mean_test_X Shape : (43, 9)\n",
      "train_y Shape : (99,)\n",
      "test_y Shape : (43,)\n"
     ]
    }
   ],
   "source": [
    "# train test split\n",
    "mean_train_X, mean_test_X, train_y, test_y = train_test_split(mean_imputate, y, stratify=y, test_size = 0.3, random_state= 123)\n",
    "\n",
    "print(f'mean_train_X Shape : {mean_train_X.shape}')\n",
    "print(f'mean_test_X Shape : {mean_test_X.shape}')\n",
    "print(f'train_y Shape : {train_y.shape}')\n",
    "print(f'test_y Shape : {test_y.shape}')"
   ]
  },
  {
   "cell_type": "code",
   "execution_count": 24,
   "id": "unlikely-scene",
   "metadata": {},
   "outputs": [
    {
     "data": {
      "text/plain": [
       "LogisticRegression(random_state=0)"
      ]
     },
     "execution_count": 24,
     "metadata": {},
     "output_type": "execute_result"
    }
   ],
   "source": [
    "# 모델 학습\n",
    "model_mean = LogisticRegression(random_state=0)\n",
    "model_mean.fit(mean_train_X, train_y)"
   ]
  },
  {
   "cell_type": "code",
   "execution_count": 26,
   "id": "assured-accreditation",
   "metadata": {
    "scrolled": true
   },
   "outputs": [
    {
     "name": "stdout",
     "output_type": "stream",
     "text": [
      "훈련 세트 정확도: 0.85859\n",
      "테스트 세트 정확도: 0.83721\n"
     ]
    }
   ],
   "source": [
    "# 평가\n",
    "print(\"훈련 세트 정확도: {:.5f}\".format(model_mean.score(mean_train_X, train_y )) )\n",
    "print(\"테스트 세트 정확도: {:.5f}\".format(model_mean.score(mean_test_X, test_y)) )"
   ]
  },
  {
   "cell_type": "markdown",
   "id": "attempted-dimension",
   "metadata": {},
   "source": [
    "# Using LeaveOneOut CV"
   ]
  },
  {
   "cell_type": "code",
   "execution_count": 29,
   "id": "white-community",
   "metadata": {},
   "outputs": [],
   "source": [
    "# create object\n",
    "model_grape = LogisticRegression(random_state=0)\n",
    "model_mice = LogisticRegression(random_state=0)\n",
    "model_mean = LogisticRegression(random_state=0)\n",
    "\n",
    "# LeaveOneOut model\n",
    "loo = LeaveOneOut() \n",
    "\n",
    "# test validation\n",
    "# LOOCV\n",
    "grape_loo_score = cross_val_score(model_grape, GRAPE_imputate, y, cv=loo)\n",
    "mice_loo_score = cross_val_score(model_mice, mice_imputate, y, cv=loo) \n",
    "mean_loo_score = cross_val_score(model_mean, mean_imputate, y, cv=loo) "
   ]
  },
  {
   "cell_type": "code",
   "execution_count": 33,
   "id": "incredible-peter",
   "metadata": {},
   "outputs": [
    {
     "name": "stdout",
     "output_type": "stream",
     "text": [
      "grape score_loocv \n",
      "0.82394\n",
      "mice score_loocv \n",
      "0.83099\n",
      "mean score_loocv \n",
      "0.83803\n"
     ]
    }
   ],
   "source": [
    "# cv result\n",
    "print('grape score_loocv \\n{:.5f}'.format(grape_loo_score.mean()))\n",
    "print('mice score_loocv \\n{:.5f}'.format(mice_loo_score.mean()))\n",
    "print('mean score_loocv \\n{:.5f}'.format(mean_loo_score.mean()))"
   ]
  },
  {
   "cell_type": "code",
   "execution_count": 30,
   "id": "metropolitan-stocks",
   "metadata": {},
   "outputs": [
    {
     "data": {
      "text/plain": [
       "array([1., 1., 1., 1., 1., 1., 1., 0., 1., 1., 1., 1., 0., 1., 0., 0., 1.,\n",
       "       1., 1., 1., 1., 1., 0., 1., 1., 1., 1., 1., 1., 0., 1., 0., 1., 1.,\n",
       "       1., 1., 1., 1., 1., 1., 1., 1., 1., 1., 1., 1., 1., 1., 1., 0., 1.,\n",
       "       1., 0., 1., 1., 1., 1., 1., 0., 1., 1., 1., 1., 0., 1., 1., 0., 1.,\n",
       "       1., 1., 1., 1., 0., 1., 1., 1., 1., 1., 1., 1., 1., 1., 1., 1., 1.,\n",
       "       1., 0., 1., 1., 0., 1., 1., 1., 0., 1., 1., 0., 0., 1., 1., 1., 1.,\n",
       "       1., 1., 1., 1., 1., 1., 1., 1., 0., 1., 1., 0., 1., 0., 1., 0., 1.,\n",
       "       1., 1., 1., 1., 1., 1., 1., 0., 1., 1., 1., 0., 1., 1., 1., 1., 1.,\n",
       "       0., 1., 1., 1., 1., 1.])"
      ]
     },
     "execution_count": 30,
     "metadata": {},
     "output_type": "execute_result"
    }
   ],
   "source": [
    "grape_loo_score"
   ]
  },
  {
   "cell_type": "code",
   "execution_count": 31,
   "id": "completed-publicity",
   "metadata": {},
   "outputs": [
    {
     "data": {
      "text/plain": [
       "array([1., 1., 1., 0., 1., 1., 1., 1., 1., 1., 1., 1., 1., 1., 1., 0., 1.,\n",
       "       1., 0., 1., 1., 1., 0., 1., 1., 1., 1., 1., 1., 0., 1., 0., 1., 1.,\n",
       "       1., 1., 1., 0., 1., 1., 1., 1., 1., 0., 1., 1., 1., 1., 1., 0., 1.,\n",
       "       0., 0., 1., 0., 1., 1., 1., 1., 1., 1., 1., 1., 1., 0., 1., 0., 1.,\n",
       "       1., 1., 1., 1., 1., 1., 1., 1., 1., 1., 1., 1., 1., 1., 1., 1., 1.,\n",
       "       1., 0., 1., 1., 0., 1., 1., 1., 1., 0., 1., 0., 0., 1., 1., 1., 1.,\n",
       "       1., 1., 1., 1., 1., 1., 1., 1., 0., 1., 1., 1., 1., 1., 1., 0., 1.,\n",
       "       1., 1., 1., 1., 1., 1., 1., 0., 1., 1., 1., 0., 1., 1., 1., 1., 1.,\n",
       "       0., 1., 1., 1., 1., 1.])"
      ]
     },
     "execution_count": 31,
     "metadata": {},
     "output_type": "execute_result"
    }
   ],
   "source": [
    "mice_loo_score"
   ]
  },
  {
   "cell_type": "code",
   "execution_count": 32,
   "id": "referenced-malawi",
   "metadata": {},
   "outputs": [
    {
     "data": {
      "text/plain": [
       "array([1., 1., 1., 1., 1., 1., 1., 1., 1., 1., 1., 1., 1., 1., 1., 1., 1.,\n",
       "       1., 0., 1., 0., 1., 0., 1., 1., 1., 1., 1., 1., 0., 1., 0., 1., 1.,\n",
       "       1., 1., 1., 1., 1., 0., 1., 1., 1., 0., 0., 1., 1., 1., 1., 1., 1.,\n",
       "       1., 0., 1., 1., 1., 1., 1., 0., 1., 1., 1., 1., 1., 1., 1., 0., 1.,\n",
       "       0., 1., 1., 1., 0., 1., 1., 1., 1., 1., 1., 1., 1., 1., 1., 1., 1.,\n",
       "       1., 0., 1., 1., 0., 1., 1., 1., 1., 1., 1., 1., 0., 1., 1., 1., 1.,\n",
       "       1., 1., 1., 1., 1., 1., 0., 1., 1., 1., 1., 1., 1., 1., 1., 0., 1.,\n",
       "       1., 0., 1., 1., 1., 1., 1., 0., 1., 1., 1., 0., 0., 1., 1., 1., 1.,\n",
       "       0., 1., 1., 1., 1., 1.])"
      ]
     },
     "execution_count": 32,
     "metadata": {},
     "output_type": "execute_result"
    }
   ],
   "source": [
    "mean_loo_score"
   ]
  },
  {
   "cell_type": "code",
   "execution_count": null,
   "id": "quality-indie",
   "metadata": {},
   "outputs": [],
   "source": []
  }
 ],
 "metadata": {
  "kernelspec": {
   "display_name": "Python 3",
   "language": "python",
   "name": "python3"
  },
  "language_info": {
   "codemirror_mode": {
    "name": "ipython",
    "version": 3
   },
   "file_extension": ".py",
   "mimetype": "text/x-python",
   "name": "python",
   "nbconvert_exporter": "python",
   "pygments_lexer": "ipython3",
   "version": "3.6.9"
  }
 },
 "nbformat": 4,
 "nbformat_minor": 5
}
