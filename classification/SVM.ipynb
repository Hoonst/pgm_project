{
 "cells": [
  {
   "cell_type": "code",
   "execution_count": 1,
   "id": "false-absolute",
   "metadata": {},
   "outputs": [],
   "source": [
    "import pandas as pd\n",
    "import numpy as np"
   ]
  },
  {
   "cell_type": "code",
   "execution_count": 2,
   "id": "smaller-blair",
   "metadata": {},
   "outputs": [],
   "source": [
    "from sklearn.model_selection import train_test_split\n",
    "from sklearn.svm import SVC"
   ]
  },
  {
   "cell_type": "code",
   "execution_count": 3,
   "id": "unnecessary-waste",
   "metadata": {},
   "outputs": [],
   "source": [
    "from sklearn.metrics import accuracy_score, confusion_matrix # model 평가"
   ]
  },
  {
   "cell_type": "code",
   "execution_count": 4,
   "id": "worst-correspondence",
   "metadata": {},
   "outputs": [],
   "source": [
    "from sklearn.model_selection import LeaveOneOut, cross_val_score, KFold"
   ]
  },
  {
   "cell_type": "code",
   "execution_count": 5,
   "id": "undefined-flavor",
   "metadata": {},
   "outputs": [
    {
     "data": {
      "text/plain": [
       "0      0\n",
       "1      1\n",
       "2      1\n",
       "3      0\n",
       "4      1\n",
       "      ..\n",
       "137    0\n",
       "138    1\n",
       "139    0\n",
       "140    1\n",
       "141    0\n",
       "Name: label, Length: 142, dtype: int64"
      ]
     },
     "execution_count": 5,
     "metadata": {},
     "output_type": "execute_result"
    }
   ],
   "source": [
    "y = pd.read_csv('../dataset/label.csv')\n",
    "y = y['label']\n",
    "y"
   ]
  },
  {
   "cell_type": "code",
   "execution_count": 6,
   "id": "polyphonic-rochester",
   "metadata": {},
   "outputs": [],
   "source": [
    "orginal_df = pd.read_csv('../dataset/original_data.csv')\n",
    "\n",
    "# imputation data\n",
    "GRAPE_imputate = pd.read_csv('../dataset/GRAPE_imputate.csv').iloc[:,1:]\n",
    "mice_imputate = pd.read_csv('../dataset/mice_imputate.csv').iloc[:,1:]\n",
    "mean_imputate = pd.read_csv('../dataset/mean_imputate.csv').iloc[:,1:]"
   ]
  },
  {
   "cell_type": "markdown",
   "id": "pacific-marking",
   "metadata": {},
   "source": [
    "# Original"
   ]
  },
  {
   "cell_type": "code",
   "execution_count": 7,
   "id": "surrounded-adventure",
   "metadata": {},
   "outputs": [
    {
     "name": "stdout",
     "output_type": "stream",
     "text": [
      "org_train_X Shape : (99, 10)\n",
      "org_test_X Shape : (43, 10)\n",
      "train_y Shape : (99,)\n",
      "test_y Shape : (43,)\n"
     ]
    }
   ],
   "source": [
    "# train test split\n",
    "org_train_X, org_test_X, train_y, test_y = train_test_split(orginal_df, y, stratify=y, test_size = 0.3, random_state= 123)\n",
    "\n",
    "print(f'org_train_X Shape : {org_train_X.shape}')\n",
    "\n",
    "print(f'org_test_X Shape : {org_test_X.shape}')\n",
    "print(f'train_y Shape : {train_y.shape}')\n",
    "print(f'test_y Shape : {test_y.shape}')"
   ]
  },
  {
   "cell_type": "code",
   "execution_count": 8,
   "id": "answering-blank",
   "metadata": {},
   "outputs": [
    {
     "data": {
      "text/plain": [
       "SVC(kernel='linear')"
      ]
     },
     "execution_count": 8,
     "metadata": {},
     "output_type": "execute_result"
    }
   ],
   "source": [
    "# 모델 학습\n",
    "model_org = SVC(kernel = 'linear')\n",
    "model_org.fit(org_train_X, train_y)"
   ]
  },
  {
   "cell_type": "code",
   "execution_count": 9,
   "id": "returning-poverty",
   "metadata": {
    "scrolled": true
   },
   "outputs": [
    {
     "name": "stdout",
     "output_type": "stream",
     "text": [
      "훈련 세트 정확도: 1.00000\n",
      "테스트 세트 정확도: 1.00000\n"
     ]
    }
   ],
   "source": [
    "# 평가\n",
    "print(\"훈련 세트 정확도: {:.5f}\".format(model_org.score(org_train_X, train_y )) )\n",
    "print(\"테스트 세트 정확도: {:.5f}\".format(model_org.score(org_test_X, test_y)) )"
   ]
  },
  {
   "cell_type": "markdown",
   "id": "challenging-tuition",
   "metadata": {},
   "source": [
    "# GRAPE"
   ]
  },
  {
   "cell_type": "code",
   "execution_count": 10,
   "id": "brilliant-julian",
   "metadata": {},
   "outputs": [
    {
     "name": "stdout",
     "output_type": "stream",
     "text": [
      "grape_train_X Shape : (99, 9)\n",
      "grape_test_X Shape : (43, 9)\n",
      "train_y Shape : (99,)\n",
      "test_y Shape : (43,)\n"
     ]
    }
   ],
   "source": [
    "# train test split\n",
    "grape_train_X, grape_test_X, train_y, test_y = train_test_split(GRAPE_imputate, y, stratify=y, test_size = 0.3, random_state= 123)\n",
    "\n",
    "print(f'grape_train_X Shape : {grape_train_X.shape}')\n",
    "print(f'grape_test_X Shape : {grape_test_X.shape}')\n",
    "print(f'train_y Shape : {train_y.shape}')\n",
    "print(f'test_y Shape : {test_y.shape}')"
   ]
  },
  {
   "cell_type": "code",
   "execution_count": 11,
   "id": "happy-balance",
   "metadata": {},
   "outputs": [
    {
     "data": {
      "text/plain": [
       "SVC(kernel='linear')"
      ]
     },
     "execution_count": 11,
     "metadata": {},
     "output_type": "execute_result"
    }
   ],
   "source": [
    "# 모델 학습\n",
    "model_grape = SVC(kernel = 'linear')\n",
    "model_grape.fit(grape_train_X, train_y)"
   ]
  },
  {
   "cell_type": "code",
   "execution_count": 12,
   "id": "fifty-making",
   "metadata": {
    "scrolled": true
   },
   "outputs": [
    {
     "name": "stdout",
     "output_type": "stream",
     "text": [
      "훈련 세트 정확도: 0.85859\n",
      "테스트 세트 정확도: 0.83721\n"
     ]
    }
   ],
   "source": [
    "# 평가\n",
    "print(\"훈련 세트 정확도: {:.5f}\".format(model_grape.score(grape_train_X, train_y )) )\n",
    "print(\"테스트 세트 정확도: {:.5f}\".format(model_grape.score(grape_test_X, test_y)) )"
   ]
  },
  {
   "cell_type": "markdown",
   "id": "blocked-drink",
   "metadata": {},
   "source": [
    "# MICE"
   ]
  },
  {
   "cell_type": "code",
   "execution_count": 13,
   "id": "overhead-barbados",
   "metadata": {},
   "outputs": [
    {
     "name": "stdout",
     "output_type": "stream",
     "text": [
      "mice_train_X Shape : (99, 9)\n",
      "mice_test_X Shape : (43, 9)\n",
      "train_y Shape : (99,)\n",
      "test_y Shape : (43,)\n"
     ]
    }
   ],
   "source": [
    "# train test split\n",
    "mice_train_X, mice_test_X, train_y, test_y = train_test_split(mice_imputate, y, stratify=y, test_size = 0.3, random_state= 123)\n",
    "\n",
    "print(f'mice_train_X Shape : {mice_train_X.shape}')\n",
    "print(f'mice_test_X Shape : {mice_test_X.shape}')\n",
    "print(f'train_y Shape : {train_y.shape}')\n",
    "print(f'test_y Shape : {test_y.shape}')"
   ]
  },
  {
   "cell_type": "code",
   "execution_count": 14,
   "id": "early-demand",
   "metadata": {},
   "outputs": [
    {
     "data": {
      "text/plain": [
       "SVC(kernel='linear')"
      ]
     },
     "execution_count": 14,
     "metadata": {},
     "output_type": "execute_result"
    }
   ],
   "source": [
    "# 모델 학습\n",
    "model_mice = SVC(kernel = 'linear')\n",
    "model_mice.fit(mice_train_X, train_y)"
   ]
  },
  {
   "cell_type": "code",
   "execution_count": 15,
   "id": "thermal-struggle",
   "metadata": {
    "scrolled": true
   },
   "outputs": [
    {
     "name": "stdout",
     "output_type": "stream",
     "text": [
      "훈련 세트 정확도: 0.84848\n",
      "테스트 세트 정확도: 0.76744\n"
     ]
    }
   ],
   "source": [
    "# 평가\n",
    "print(\"훈련 세트 정확도: {:.5f}\".format(model_mice.score(mice_train_X, train_y )) )\n",
    "print(\"테스트 세트 정확도: {:.5f}\".format(model_mice.score(mice_test_X, test_y)) )"
   ]
  },
  {
   "cell_type": "markdown",
   "id": "compound-quebec",
   "metadata": {},
   "source": [
    "# MEAN"
   ]
  },
  {
   "cell_type": "code",
   "execution_count": 16,
   "id": "crude-assistant",
   "metadata": {},
   "outputs": [
    {
     "name": "stdout",
     "output_type": "stream",
     "text": [
      "mean_train_X Shape : (99, 9)\n",
      "mean_test_X Shape : (43, 9)\n",
      "train_y Shape : (99,)\n",
      "test_y Shape : (43,)\n"
     ]
    }
   ],
   "source": [
    "# train test split\n",
    "mean_train_X, mean_test_X, train_y, test_y = train_test_split(mean_imputate, y, stratify=y, test_size = 0.3, random_state= 123)\n",
    "\n",
    "print(f'mean_train_X Shape : {mean_train_X.shape}')\n",
    "print(f'mean_test_X Shape : {mean_test_X.shape}')\n",
    "print(f'train_y Shape : {train_y.shape}')\n",
    "print(f'test_y Shape : {test_y.shape}')"
   ]
  },
  {
   "cell_type": "code",
   "execution_count": 17,
   "id": "warming-seven",
   "metadata": {},
   "outputs": [
    {
     "data": {
      "text/plain": [
       "SVC(kernel='linear')"
      ]
     },
     "execution_count": 17,
     "metadata": {},
     "output_type": "execute_result"
    }
   ],
   "source": [
    "# 모델 학습\n",
    "model_mean = SVC(kernel = 'linear')\n",
    "model_mean.fit(mean_train_X, train_y)"
   ]
  },
  {
   "cell_type": "code",
   "execution_count": 18,
   "id": "encouraging-right",
   "metadata": {
    "scrolled": true
   },
   "outputs": [
    {
     "name": "stdout",
     "output_type": "stream",
     "text": [
      "훈련 세트 정확도: 0.85859\n",
      "테스트 세트 정확도: 0.83721\n"
     ]
    }
   ],
   "source": [
    "# 평가\n",
    "print(\"훈련 세트 정확도: {:.5f}\".format(model_mean.score(mean_train_X, train_y )) )\n",
    "print(\"테스트 세트 정확도: {:.5f}\".format(model_mean.score(mean_test_X, test_y)) )"
   ]
  },
  {
   "cell_type": "markdown",
   "id": "distant-crossing",
   "metadata": {},
   "source": [
    "# Using LeaveOneOut CV"
   ]
  },
  {
   "cell_type": "markdown",
   "id": "russian-disclosure",
   "metadata": {},
   "source": [
    "## linear SVC"
   ]
  },
  {
   "cell_type": "code",
   "execution_count": 19,
   "id": "leading-arrow",
   "metadata": {},
   "outputs": [],
   "source": [
    "# create object\n",
    "model_org = SVC(kernel = 'linear')\n",
    "model_grape = SVC(kernel = 'linear')\n",
    "model_mice = SVC(kernel = 'linear')\n",
    "model_mean = SVC(kernel = 'linear')\n",
    "\n",
    "# LeaveOneOut model\n",
    "loo = LeaveOneOut() \n",
    "\n",
    "# test validation\n",
    "# LOOCV\n",
    "org_loo_score = cross_val_score(model_org, orginal_df, y, cv=loo)\n",
    "grape_loo_score = cross_val_score(model_grape, GRAPE_imputate, y, cv=loo)\n",
    "mice_loo_score = cross_val_score(model_mice, mice_imputate, y, cv=loo) \n",
    "mean_loo_score = cross_val_score(model_mean, mean_imputate, y, cv=loo) "
   ]
  },
  {
   "cell_type": "code",
   "execution_count": 20,
   "id": "separate-finder",
   "metadata": {
    "scrolled": true
   },
   "outputs": [
    {
     "name": "stdout",
     "output_type": "stream",
     "text": [
      "org score_loocv \n",
      "0.99296\n",
      "grape score_loocv \n",
      "0.88028\n",
      "mice score_loocv \n",
      "0.82394\n",
      "mean score_loocv \n",
      "0.87324\n"
     ]
    }
   ],
   "source": [
    "# cv result\n",
    "print('org score_loocv \\n{:.5f}'.format(org_loo_score.mean()))\n",
    "\n",
    "print('grape score_loocv \\n{:.5f}'.format(grape_loo_score.mean()))\n",
    "print('mice score_loocv \\n{:.5f}'.format(mice_loo_score.mean()))\n",
    "print('mean score_loocv \\n{:.5f}'.format(mean_loo_score.mean()))"
   ]
  },
  {
   "cell_type": "code",
   "execution_count": 21,
   "id": "differential-thickness",
   "metadata": {},
   "outputs": [
    {
     "data": {
      "text/plain": [
       "array([1., 1., 1., 1., 1., 1., 1., 1., 1., 1., 1., 1., 1., 1., 1., 1., 1.,\n",
       "       1., 1., 1., 1., 1., 0., 1., 1., 1., 1., 1., 1., 1., 1., 1., 1., 1.,\n",
       "       1., 1., 1., 1., 1., 1., 1., 1., 1., 1., 1., 1., 1., 1., 1., 1., 1.,\n",
       "       1., 1., 1., 1., 1., 1., 1., 1., 1., 1., 1., 1., 1., 1., 1., 1., 1.,\n",
       "       1., 1., 1., 1., 1., 1., 1., 1., 1., 1., 1., 1., 1., 1., 1., 1., 1.,\n",
       "       1., 1., 1., 1., 1., 1., 1., 1., 1., 1., 1., 1., 1., 1., 1., 1., 1.,\n",
       "       1., 1., 1., 1., 1., 1., 1., 1., 1., 1., 1., 1., 1., 1., 1., 1., 1.,\n",
       "       1., 1., 1., 1., 1., 1., 1., 1., 1., 1., 1., 1., 1., 1., 1., 1., 1.,\n",
       "       1., 1., 1., 1., 1., 1.])"
      ]
     },
     "execution_count": 21,
     "metadata": {},
     "output_type": "execute_result"
    }
   ],
   "source": [
    "org_loo_score"
   ]
  },
  {
   "cell_type": "code",
   "execution_count": 22,
   "id": "perfect-alliance",
   "metadata": {
    "scrolled": true
   },
   "outputs": [
    {
     "data": {
      "text/plain": [
       "array([1., 1., 1., 1., 1., 1., 1., 1., 1., 1., 1., 1., 1., 1., 1., 0., 1.,\n",
       "       1., 1., 1., 1., 1., 0., 1., 1., 1., 1., 1., 1., 1., 1., 0., 1., 1.,\n",
       "       1., 1., 0., 1., 1., 1., 1., 1., 1., 1., 1., 1., 1., 1., 1., 0., 1.,\n",
       "       1., 0., 1., 1., 1., 1., 1., 1., 1., 1., 1., 1., 0., 1., 1., 0., 1.,\n",
       "       1., 1., 1., 1., 0., 1., 1., 1., 1., 1., 1., 1., 1., 1., 1., 1., 1.,\n",
       "       1., 0., 1., 1., 0., 1., 1., 1., 0., 1., 1., 1., 0., 1., 1., 1., 1.,\n",
       "       1., 1., 1., 1., 1., 1., 1., 1., 0., 1., 1., 1., 1., 0., 1., 1., 1.,\n",
       "       1., 1., 1., 1., 1., 1., 1., 0., 1., 1., 1., 1., 1., 1., 1., 1., 1.,\n",
       "       0., 1., 1., 1., 1., 1.])"
      ]
     },
     "execution_count": 22,
     "metadata": {},
     "output_type": "execute_result"
    }
   ],
   "source": [
    "grape_loo_score"
   ]
  },
  {
   "cell_type": "code",
   "execution_count": 23,
   "id": "narrow-celtic",
   "metadata": {},
   "outputs": [
    {
     "data": {
      "text/plain": [
       "array([1., 1., 1., 0., 1., 1., 1., 1., 1., 1., 1., 1., 1., 1., 1., 0., 1.,\n",
       "       1., 1., 0., 1., 1., 0., 1., 1., 1., 1., 1., 1., 0., 1., 0., 1., 1.,\n",
       "       1., 1., 0., 0., 1., 1., 1., 1., 1., 0., 1., 1., 1., 1., 1., 0., 1.,\n",
       "       0., 0., 1., 1., 0., 1., 1., 1., 1., 1., 1., 1., 0., 0., 1., 0., 1.,\n",
       "       1., 1., 1., 1., 1., 1., 1., 1., 1., 1., 1., 1., 1., 1., 1., 1., 1.,\n",
       "       1., 0., 1., 1., 0., 1., 1., 1., 1., 1., 1., 1., 0., 1., 1., 1., 1.,\n",
       "       1., 1., 1., 1., 1., 1., 1., 1., 0., 1., 1., 1., 1., 0., 1., 0., 1.,\n",
       "       1., 1., 1., 0., 1., 1., 1., 0., 1., 1., 1., 0., 1., 1., 1., 1., 1.,\n",
       "       1., 1., 1., 1., 1., 1.])"
      ]
     },
     "execution_count": 23,
     "metadata": {},
     "output_type": "execute_result"
    }
   ],
   "source": [
    "mice_loo_score"
   ]
  },
  {
   "cell_type": "code",
   "execution_count": 24,
   "id": "relative-confirmation",
   "metadata": {
    "scrolled": false
   },
   "outputs": [
    {
     "data": {
      "text/plain": [
       "array([1., 1., 1., 1., 1., 1., 1., 1., 1., 1., 1., 1., 1., 1., 1., 1., 1.,\n",
       "       1., 1., 1., 0., 1., 0., 1., 1., 1., 1., 1., 1., 1., 1., 0., 1., 1.,\n",
       "       1., 1., 0., 0., 1., 1., 0., 1., 1., 0., 1., 1., 1., 1., 1., 1., 1.,\n",
       "       1., 1., 1., 1., 0., 1., 1., 1., 1., 1., 1., 1., 0., 1., 1., 0., 1.,\n",
       "       1., 1., 1., 1., 0., 1., 1., 1., 1., 1., 1., 1., 1., 1., 0., 1., 1.,\n",
       "       1., 0., 1., 1., 0., 1., 1., 1., 1., 1., 1., 1., 0., 1., 1., 1., 1.,\n",
       "       1., 1., 1., 1., 1., 1., 0., 1., 0., 1., 1., 1., 1., 1., 1., 1., 1.,\n",
       "       1., 0., 1., 1., 1., 1., 1., 1., 1., 1., 1., 1., 1., 1., 1., 1., 1.,\n",
       "       1., 1., 1., 1., 1., 1.])"
      ]
     },
     "execution_count": 24,
     "metadata": {},
     "output_type": "execute_result"
    }
   ],
   "source": [
    "mean_loo_score"
   ]
  },
  {
   "cell_type": "markdown",
   "id": "agreed-straight",
   "metadata": {},
   "source": [
    "### Kernel SVC"
   ]
  },
  {
   "cell_type": "code",
   "execution_count": 25,
   "id": "expected-specific",
   "metadata": {},
   "outputs": [],
   "source": [
    "# create object\n",
    "model_org = SVC(kernel = 'rbf')\n",
    "model_grape = SVC(kernel = 'rbf')\n",
    "model_mice = SVC(kernel = 'rbf')\n",
    "model_mean = SVC(kernel = 'rbf')\n",
    "\n",
    "# LeaveOneOut model\n",
    "loo = LeaveOneOut() \n",
    "\n",
    "# test validation\n",
    "# LOOCV\n",
    "org_loo_score = cross_val_score(model_org, orginal_df, y, cv=loo)\n",
    "\n",
    "grape_loo_score = cross_val_score(model_grape, GRAPE_imputate, y, cv=loo)\n",
    "mice_loo_score = cross_val_score(model_mice, mice_imputate, y, cv=loo) \n",
    "mean_loo_score = cross_val_score(model_mean, mean_imputate, y, cv=loo) "
   ]
  },
  {
   "cell_type": "code",
   "execution_count": 26,
   "id": "appreciated-country",
   "metadata": {
    "scrolled": true
   },
   "outputs": [
    {
     "name": "stdout",
     "output_type": "stream",
     "text": [
      "org score_loocv \n",
      "0.50704\n",
      "grape score_loocv \n",
      "0.85915\n",
      "mice score_loocv \n",
      "0.81690\n",
      "mean score_loocv \n",
      "0.80986\n"
     ]
    }
   ],
   "source": [
    "# cv result\n",
    "print('org score_loocv \\n{:.5f}'.format(org_loo_score.mean()))\n",
    "\n",
    "print('grape score_loocv \\n{:.5f}'.format(grape_loo_score.mean()))\n",
    "print('mice score_loocv \\n{:.5f}'.format(mice_loo_score.mean()))\n",
    "print('mean score_loocv \\n{:.5f}'.format(mean_loo_score.mean()))"
   ]
  },
  {
   "cell_type": "code",
   "execution_count": 27,
   "id": "mechanical-maine",
   "metadata": {},
   "outputs": [
    {
     "data": {
      "text/plain": [
       "array([1., 0., 0., 1., 0., 1., 1., 0., 1., 1., 1., 1., 0., 1., 1., 0., 1.,\n",
       "       1., 0., 1., 1., 0., 0., 1., 1., 0., 1., 0., 1., 0., 1., 1., 1., 1.,\n",
       "       0., 0., 1., 1., 0., 0., 1., 0., 0., 0., 0., 0., 1., 0., 1., 1., 1.,\n",
       "       0., 0., 0., 0., 1., 1., 0., 0., 0., 1., 0., 1., 1., 1., 1., 0., 1.,\n",
       "       0., 1., 0., 0., 1., 0., 0., 1., 1., 0., 1., 0., 1., 0., 1., 1., 0.,\n",
       "       0., 0., 0., 1., 0., 0., 1., 0., 1., 0., 1., 1., 1., 0., 0., 1., 0.,\n",
       "       0., 1., 0., 0., 1., 0., 1., 0., 1., 1., 1., 0., 0., 0., 1., 0., 1.,\n",
       "       1., 1., 0., 1., 1., 1., 1., 0., 1., 0., 0., 0., 0., 1., 0., 1., 0.,\n",
       "       0., 1., 0., 1., 0., 1.])"
      ]
     },
     "execution_count": 27,
     "metadata": {},
     "output_type": "execute_result"
    }
   ],
   "source": [
    "org_loo_score"
   ]
  },
  {
   "cell_type": "code",
   "execution_count": 28,
   "id": "infectious-columbia",
   "metadata": {
    "scrolled": true
   },
   "outputs": [
    {
     "data": {
      "text/plain": [
       "array([1., 1., 1., 1., 1., 1., 1., 0., 1., 1., 1., 1., 1., 1., 1., 0., 1.,\n",
       "       1., 1., 1., 1., 1., 0., 1., 1., 1., 1., 1., 1., 1., 1., 0., 1., 1.,\n",
       "       1., 1., 0., 1., 1., 1., 1., 1., 1., 1., 1., 1., 1., 1., 1., 0., 1.,\n",
       "       1., 0., 1., 1., 1., 1., 1., 1., 1., 1., 1., 1., 0., 1., 0., 0., 1.,\n",
       "       1., 1., 1., 1., 1., 1., 1., 1., 1., 1., 1., 1., 1., 1., 1., 1., 1.,\n",
       "       1., 0., 1., 1., 0., 1., 1., 1., 0., 1., 1., 1., 0., 1., 1., 1., 1.,\n",
       "       1., 1., 1., 1., 1., 1., 1., 1., 0., 1., 1., 1., 1., 0., 1., 0., 1.,\n",
       "       1., 1., 1., 1., 1., 1., 1., 0., 1., 0., 1., 1., 1., 1., 1., 1., 1.,\n",
       "       0., 1., 1., 1., 1., 1.])"
      ]
     },
     "execution_count": 28,
     "metadata": {},
     "output_type": "execute_result"
    }
   ],
   "source": [
    "grape_loo_score"
   ]
  },
  {
   "cell_type": "code",
   "execution_count": 29,
   "id": "proof-cigarette",
   "metadata": {},
   "outputs": [
    {
     "data": {
      "text/plain": [
       "array([1., 1., 1., 0., 1., 1., 1., 0., 1., 1., 1., 1., 1., 1., 1., 0., 1.,\n",
       "       1., 1., 1., 1., 1., 0., 1., 1., 1., 1., 1., 1., 0., 1., 0., 1., 1.,\n",
       "       1., 1., 0., 0., 1., 1., 0., 1., 1., 0., 1., 1., 1., 1., 1., 0., 1.,\n",
       "       0., 0., 1., 1., 1., 1., 1., 1., 1., 1., 1., 1., 0., 0., 1., 0., 1.,\n",
       "       1., 1., 1., 1., 1., 1., 1., 1., 1., 1., 1., 1., 1., 1., 1., 1., 1.,\n",
       "       1., 0., 1., 1., 0., 1., 1., 1., 1., 1., 1., 0., 0., 1., 1., 1., 1.,\n",
       "       1., 1., 1., 1., 1., 1., 1., 1., 0., 1., 1., 1., 1., 0., 1., 0., 1.,\n",
       "       1., 1., 1., 0., 1., 1., 1., 0., 1., 0., 1., 1., 1., 1., 1., 1., 1.,\n",
       "       1., 1., 1., 1., 1., 1.])"
      ]
     },
     "execution_count": 29,
     "metadata": {},
     "output_type": "execute_result"
    }
   ],
   "source": [
    "mice_loo_score"
   ]
  },
  {
   "cell_type": "code",
   "execution_count": 30,
   "id": "severe-adrian",
   "metadata": {
    "scrolled": false
   },
   "outputs": [
    {
     "data": {
      "text/plain": [
       "array([1., 1., 1., 1., 1., 1., 1., 1., 1., 1., 1., 1., 1., 1., 1., 1., 1.,\n",
       "       1., 1., 1., 0., 1., 0., 1., 1., 1., 1., 1., 1., 1., 1., 0., 1., 1.,\n",
       "       1., 1., 0., 0., 1., 1., 0., 1., 1., 0., 0., 1., 1., 1., 1., 1., 1.,\n",
       "       0., 0., 1., 1., 0., 1., 1., 1., 1., 1., 1., 1., 0., 0., 1., 1., 1.,\n",
       "       1., 1., 1., 1., 0., 1., 1., 1., 0., 1., 1., 1., 1., 1., 1., 0., 1.,\n",
       "       1., 0., 1., 1., 0., 1., 1., 1., 0., 1., 1., 0., 0., 1., 1., 0., 1.,\n",
       "       1., 1., 1., 1., 1., 1., 0., 1., 0., 1., 1., 1., 1., 1., 1., 0., 1.,\n",
       "       1., 0., 1., 1., 1., 1., 1., 1., 1., 1., 1., 1., 1., 0., 1., 1., 1.,\n",
       "       1., 1., 1., 1., 1., 1.])"
      ]
     },
     "execution_count": 30,
     "metadata": {},
     "output_type": "execute_result"
    }
   ],
   "source": [
    "mean_loo_score"
   ]
  },
  {
   "cell_type": "code",
   "execution_count": null,
   "id": "decent-cooling",
   "metadata": {},
   "outputs": [],
   "source": []
  },
  {
   "cell_type": "code",
   "execution_count": null,
   "id": "august-western",
   "metadata": {},
   "outputs": [],
   "source": []
  }
 ],
 "metadata": {
  "kernelspec": {
   "display_name": "Python 3",
   "language": "python",
   "name": "python3"
  },
  "language_info": {
   "codemirror_mode": {
    "name": "ipython",
    "version": 3
   },
   "file_extension": ".py",
   "mimetype": "text/x-python",
   "name": "python",
   "nbconvert_exporter": "python",
   "pygments_lexer": "ipython3",
   "version": "3.7.10"
  }
 },
 "nbformat": 4,
 "nbformat_minor": 5
}
